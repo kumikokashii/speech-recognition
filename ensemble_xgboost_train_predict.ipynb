{
 "cells": [
  {
   "cell_type": "code",
   "execution_count": 1,
   "metadata": {},
   "outputs": [],
   "source": [
    "%load_ext autoreload\n",
    "%autoreload 2\n",
    "\n",
    "from kaggle_speech_recog import *\n",
    "import numpy as np\n",
    "import xgboost as xgb"
   ]
  },
  {
   "cell_type": "markdown",
   "metadata": {},
   "source": [
    "# Train"
   ]
  },
  {
   "cell_type": "markdown",
   "metadata": {},
   "source": [
    "## Get feature and label matrices"
   ]
  },
  {
   "cell_type": "code",
   "execution_count": 2,
   "metadata": {},
   "outputs": [
    {
     "name": "stdout",
     "output_type": "stream",
     "text": [
      "SKIPPED train/audio/_background_noise_/README.md File format b'# Ba'... not understood.\n"
     ]
    },
    {
     "name": "stderr",
     "output_type": "stream",
     "text": [
      "/usr/local/anaconda3/lib/python3.5/site-packages/scipy/io/wavfile.py:273: WavFileWarning: Chunk (non-data) not understood, skipping it.\n",
      "  WavFileWarning)\n",
      "/usr/local/anaconda3/lib/python3.5/site-packages/librosa/filters.py:261: UserWarning: Empty filters detected in mel frequency basis. Some channels will produce empty responses. Try increasing your sampling rate (and fmax) or reducing n_mels.\n",
      "  warnings.warn('Empty filters detected in mel frequency basis. '\n"
     ]
    }
   ],
   "source": [
    "X_vector_len = 16000\n",
    "train = SpeechList.get_train('train/audio')\n",
    "XY_train_valid = train.get_group_unknown_spectrogram_X_and_Y(X_vector_len=X_vector_len, spec_v='3', take_log=False, \n",
    "                                                             split_noise=True, n_fabricate_noise=1600, \n",
    "                                                             split=0.85)"
   ]
  },
  {
   "cell_type": "code",
   "execution_count": 3,
   "metadata": {},
   "outputs": [],
   "source": [
    "random_pick_unknown = True\n",
    "\n",
    "X_train_known, X_train_unknown, Y_train_known, Y_train_unknown, X_valid, Y_valid = XY_train_valid\n",
    "\n",
    "if random_pick_unknown:\n",
    "    i_train_unknown = np.random.choice(len(X_train_unknown), size=int(len(X_train_known) / 11), replace=False)\n",
    "    random_X_train_unknown = X_train_unknown[i_train_unknown, :]\n",
    "    random_Y_train_unknown = Y_train_unknown[i_train_unknown, :]\n",
    "\n",
    "    X_train = np.concatenate((X_train_known, random_X_train_unknown))\n",
    "    Y_train = np.concatenate((Y_train_known, random_Y_train_unknown))\n",
    "else:\n",
    "    X_train = np.concatenate((X_train_known, X_train_unknown))\n",
    "    Y_train = np.concatenate((Y_train_known, Y_train_unknown))\n",
    "    \n",
    "Y_train_argmax = np.argmax(Y_train, axis=1)\n",
    "Y_valid_argmax = np.argmax(Y_valid, axis=1)"
   ]
  },
  {
   "cell_type": "markdown",
   "metadata": {},
   "source": [
    "## Get logits via each model"
   ]
  },
  {
   "cell_type": "code",
   "execution_count": 4,
   "metadata": {},
   "outputs": [
    {
     "name": "stdout",
     "output_type": "stream",
     "text": [
      "INFO:tensorflow:Restoring parameters from checkpoints/SpectrogramMultiLSTMRandomInputModify_graph_03_lr_decay_run_01_group_unknown/best/model-57354\n",
      "INFO:tensorflow:Restoring parameters from checkpoints/SpectrogramMultiLSTMRandomInputModify2_graph_02_lower_lr_lr_decay_run_01_group_unknown/best/model-53088\n",
      "INFO:tensorflow:Restoring parameters from checkpoints/SpectrogramConcatCLSTM_graph_04_conv5x1_lower_lr_run_01_group_unknown/best/model-229416\n",
      "INFO:tensorflow:Restoring parameters from checkpoints/SpectrogramConcatCLSTM_graph_03_conv3x3_lower_lr_run_01_group_unknown/best/model-142358\n",
      "INFO:tensorflow:Restoring parameters from checkpoints/SpectrogramConcatCLSTM_graph_02_lower_lr_run_01_group_unknown/best/model-53167\n",
      "INFO:tensorflow:Restoring parameters from checkpoints/SpectrogramMultiLSTMRandomInputModify_graph_03_lr_decay_run_01_group_unknown/best/model-57354\n",
      "INFO:tensorflow:Restoring parameters from checkpoints/SpectrogramMultiLSTMRandomInputModify2_graph_02_lower_lr_lr_decay_run_01_group_unknown/best/model-53088\n",
      "INFO:tensorflow:Restoring parameters from checkpoints/SpectrogramConcatCLSTM_graph_04_conv5x1_lower_lr_run_01_group_unknown/best/model-229416\n",
      "INFO:tensorflow:Restoring parameters from checkpoints/SpectrogramConcatCLSTM_graph_03_conv3x3_lower_lr_run_01_group_unknown/best/model-142358\n",
      "INFO:tensorflow:Restoring parameters from checkpoints/SpectrogramConcatCLSTM_graph_02_lower_lr_run_01_group_unknown/best/model-53167\n"
     ]
    }
   ],
   "source": [
    "logs = ['SpectrogramMultiLSTMRandomInputModify_graph_03_lr_decay_run_01_group_unknown.log', \n",
    "        'SpectrogramMultiLSTMRandomInputModify2_graph_02_lower_lr_lr_decay_run_01_group_unknown.log',\n",
    "        'SpectrogramConcatCLSTM_graph_04_conv5x1_lower_lr_run_01_group_unknown.log',\n",
    "        'SpectrogramConcatCLSTM_graph_03_conv3x3_lower_lr_run_01_group_unknown.log',\n",
    "        'SpectrogramConcatCLSTM_graph_02_lower_lr_run_01_group_unknown.log']\n",
    "\n",
    "L_train = gather_logits(X_train, log_dir='logs', logs=logs)\n",
    "L_valid = gather_logits(X_valid, log_dir='logs', logs=logs)"
   ]
  },
  {
   "cell_type": "markdown",
   "metadata": {},
   "source": [
    "## Train"
   ]
  },
  {
   "cell_type": "code",
   "execution_count": 5,
   "metadata": {
    "scrolled": false
   },
   "outputs": [
    {
     "name": "stdout",
     "output_type": "stream",
     "text": [
      "[0]\ttrain-mlogloss:2.19831\tvalid-mlogloss:2.20288\n",
      "Multiple eval metrics have been passed: 'valid-mlogloss' will be used for early stopping.\n",
      "\n",
      "Will train until valid-mlogloss hasn't improved in 50 rounds.\n",
      "[10]\ttrain-mlogloss:1.05511\tvalid-mlogloss:1.07874\n",
      "[20]\ttrain-mlogloss:0.616678\tvalid-mlogloss:0.646452\n",
      "[30]\ttrain-mlogloss:0.38314\tvalid-mlogloss:0.416269\n",
      "[40]\ttrain-mlogloss:0.246256\tvalid-mlogloss:0.281491\n",
      "[50]\ttrain-mlogloss:0.163913\tvalid-mlogloss:0.199933\n",
      "[60]\ttrain-mlogloss:0.113639\tvalid-mlogloss:0.150318\n",
      "[70]\ttrain-mlogloss:0.082338\tvalid-mlogloss:0.119863\n",
      "[80]\ttrain-mlogloss:0.062707\tvalid-mlogloss:0.10097\n",
      "[90]\ttrain-mlogloss:0.050024\tvalid-mlogloss:0.089939\n",
      "[100]\ttrain-mlogloss:0.041411\tvalid-mlogloss:0.082802\n",
      "[110]\ttrain-mlogloss:0.035462\tvalid-mlogloss:0.078658\n",
      "[120]\ttrain-mlogloss:0.031199\tvalid-mlogloss:0.07599\n",
      "[130]\ttrain-mlogloss:0.028044\tvalid-mlogloss:0.074585\n",
      "[140]\ttrain-mlogloss:0.025512\tvalid-mlogloss:0.074135\n",
      "[150]\ttrain-mlogloss:0.023567\tvalid-mlogloss:0.073974\n",
      "[160]\ttrain-mlogloss:0.021953\tvalid-mlogloss:0.073958\n",
      "[170]\ttrain-mlogloss:0.020616\tvalid-mlogloss:0.074075\n",
      "[180]\ttrain-mlogloss:0.0195\tvalid-mlogloss:0.074572\n",
      "[190]\ttrain-mlogloss:0.018508\tvalid-mlogloss:0.075133\n",
      "[200]\ttrain-mlogloss:0.017661\tvalid-mlogloss:0.075492\n",
      "Stopping. Best iteration:\n",
      "[155]\ttrain-mlogloss:0.022747\tvalid-mlogloss:0.073809\n",
      "\n"
     ]
    }
   ],
   "source": [
    "xgb_train = xgb.DMatrix(L_train, label=Y_train_argmax)\n",
    "xgb_valid = xgb.DMatrix(L_valid, label=Y_valid_argmax)\n",
    "\n",
    "params = {'objective': 'multi:softprob',  # labels are 1-dim, not one-hot encoded\n",
    "          'num_class': Y_train.shape[-1],\n",
    "          'eval_metric': 'mlogloss', \n",
    "          'eta': 0.05,\n",
    "          'subsample': 0.5,\n",
    "          'max_depth': 1, \n",
    "          'colsample_bytree': 0.5}\n",
    "watchlist = [(xgb_train, 'train'), (xgb_valid, 'valid')]\n",
    "\n",
    "xgboost = xgb.train(params, xgb_train, num_boost_round=1000, evals=watchlist, \n",
    "                    early_stopping_rounds=50, verbose_eval=10)\n",
    "\n",
    "# logs = ['SpectrogramMultiLSTMRandomInputModify_graph_03_lr_decay_run_01_group_unknown.log', \n",
    "#         'SpectrogramConcatCLSTM_graph_02_lower_lr_run_01_group_unknown.log']\n",
    "\n",
    "# all_unknown, eta=0.05, gamma=0.1, ll=0.184892\n",
    "# random_unknown, eta=0.05, gamma=0.1, ll=0.115045\n",
    "# random_unknown, eta=0.05, gamma=0, ll=0.114929  * submitted, 01, LB 82%\n",
    "# random_unknown, eta=0.05, subsample=0.5, ll=0.103648\n",
    "# random_unknown, eta=0.05, subsample=0.5, lambda=0.1, ll=0.107599\n",
    "\n",
    "# random_unknown, eta=0.05, subsample=0.5, max_depth=4, ll=0.102777\n",
    "# random_unknown, eta=0.05, subsample=0.5, max_depth=3, ll=0.100699\n",
    "# random_unknown, eta=0.05, subsample=0.5, max_depth=2, ll=0.09705\n",
    "# random_unknown, eta=0.05, subsample=0.5, max_depth=1, ll=0.092102\n",
    "\n",
    "# random_unknown, eta=0.05, subsample=0.5, max_depth=1, colsample_bytree=0.5, ll=0.085078\n",
    "# random_unknown, eta=0.05, subsample=0.5, max_depth=3, colsample_bytree=0.5, ll=0.09212\n",
    "\n",
    "# all_unknown, eta=0.05, subsample=0.5, max_depth=1, colsample_bytree=0.5, ll=0.142411\n",
    "# all_unknown, eta=0.05, subsample=1, max_depth=1, colsample_bytree=0.5, ll=0.144147\n",
    "\n",
    "# random_unknown, eta=0.05, subsample=0.5, max_depth=1, colsample_bytree=0.5, min_child_weight=10, ll=0.086196\n",
    "# random_unknown, eta=0.05, subsample=0.5, max_depth=1, colsample_bytree=0.5, min_child_weight=5, ll=0.08582\n",
    "# random_unknown, eta=0.05, subsample=0.5, max_depth=1, colsample_bytree=0.5, min_child_weight=3, ll=0.085768\n",
    "# random_unknown, eta=0.05, subsample=0.5, max_depth=1, colsample_bytree=0.5, min_child_weight=2, ll=0.085757\n",
    "\n",
    "#logs = ['SpectrogramMultiLSTMRandomInputModify_graph_03_lr_decay_run_01_group_unknown.log', \n",
    "#        'SpectrogramMultiLSTMRandomInputModify2_graph_02_lower_lr_lr_decay_run_01_group_unknown.log',\n",
    "#        'SpectrogramConcatCLSTM_graph_04_conv5x1_lower_lr_run_01_group_unknown.log',\n",
    "#        'SpectrogramConcatCLSTM_graph_03_conv3x3_lower_lr_run_01_group_unknown.log',\n",
    "#        'SpectrogramConcatCLSTM_graph_02_lower_lr_run_01_group_unknown.log']\n",
    "\n",
    "# random_unknown, eta=0.1, subsample=0.5, max_depth=1, colsample_bytree=0.5, ll=0.073678\n",
    "# random_unknown, eta=0.05, subsample=0.5, max_depth=1, colsample_bytree=0.5, ll=0.072128 * submitted, 02, LB 82%\n",
    "# random_unknown, eta=0.01, subsample=0.5, max_depth=1, colsample_bytree=0.5, ll=0.073888"
   ]
  },
  {
   "cell_type": "markdown",
   "metadata": {},
   "source": [
    "# Predict"
   ]
  },
  {
   "cell_type": "markdown",
   "metadata": {},
   "source": [
    "## Get feature matrix"
   ]
  },
  {
   "cell_type": "code",
   "execution_count": 6,
   "metadata": {},
   "outputs": [
    {
     "name": "stderr",
     "output_type": "stream",
     "text": [
      "/usr/local/anaconda3/lib/python3.5/site-packages/librosa/filters.py:261: UserWarning: Empty filters detected in mel frequency basis. Some channels will produce empty responses. Try increasing your sampling rate (and fmax) or reducing n_mels.\n",
      "  warnings.warn('Empty filters detected in mel frequency basis. '\n"
     ]
    }
   ],
   "source": [
    "X_vector_len = 16000\n",
    "test = SpeechList.get_test('test/audio')\n",
    "X_test = test.get_spectrogram_feature_ndarray(vector_len=X_vector_len, spec_v='3', take_log=False)"
   ]
  },
  {
   "cell_type": "markdown",
   "metadata": {},
   "source": [
    "## Get logits via each model"
   ]
  },
  {
   "cell_type": "code",
   "execution_count": 7,
   "metadata": {},
   "outputs": [
    {
     "name": "stdout",
     "output_type": "stream",
     "text": [
      "INFO:tensorflow:Restoring parameters from checkpoints/SpectrogramMultiLSTMRandomInputModify_graph_03_lr_decay_run_01_group_unknown/best/model-57354\n",
      "INFO:tensorflow:Restoring parameters from checkpoints/SpectrogramMultiLSTMRandomInputModify2_graph_02_lower_lr_lr_decay_run_01_group_unknown/best/model-53088\n",
      "INFO:tensorflow:Restoring parameters from checkpoints/SpectrogramConcatCLSTM_graph_04_conv5x1_lower_lr_run_01_group_unknown/best/model-229416\n",
      "INFO:tensorflow:Restoring parameters from checkpoints/SpectrogramConcatCLSTM_graph_03_conv3x3_lower_lr_run_01_group_unknown/best/model-142358\n",
      "INFO:tensorflow:Restoring parameters from checkpoints/SpectrogramConcatCLSTM_graph_02_lower_lr_run_01_group_unknown/best/model-53167\n"
     ]
    }
   ],
   "source": [
    "L_test = gather_logits(X_test, log_dir='logs', logs=logs)  # logs from above"
   ]
  },
  {
   "cell_type": "markdown",
   "metadata": {},
   "source": [
    "## Predict"
   ]
  },
  {
   "cell_type": "code",
   "execution_count": 8,
   "metadata": {},
   "outputs": [],
   "source": [
    "xgb_test = xgb.DMatrix(L_test)\n",
    "Y_test = xgboost.predict(xgb_test, ntree_limit=xgboost.best_ntree_limit)  # ntree_limit is from above, best valid ll\n",
    "test.add_predicted_label(Y_test, le=train.le)\n",
    "test.save_submission_csv(dir_='submissions', name='EnsembleXGBoost_02_five_models.csv')"
   ]
  },
  {
   "cell_type": "code",
   "execution_count": 9,
   "metadata": {},
   "outputs": [
    {
     "name": "stdout",
     "output_type": "stream",
     "text": [
      "None, test/audio/clip_c24125cd1.wav, sample rate 16000, data length 16000\n",
      "prediction: stop\n"
     ]
    },
    {
     "data": {
      "text/html": [
       "\n",
       "                <audio controls=\"controls\" >\n",
       "                    <source src=\"data:audio/x-wav;base64,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\" type=\"audio/x-wav\" />\n",
       "                    Your browser does not support the audio element.\n",
       "                </audio>\n",
       "              "
      ],
      "text/plain": [
       "<IPython.lib.display.Audio object>"
      ]
     },
     "metadata": {},
     "output_type": "display_data"
    }
   ],
   "source": [
    "test[0].hear_and_see()"
   ]
  },
  {
   "cell_type": "markdown",
   "metadata": {},
   "source": [
    "# Save model"
   ]
  },
  {
   "cell_type": "code",
   "execution_count": 10,
   "metadata": {},
   "outputs": [],
   "source": [
    "xgboost.save_model('ensemble_xgboost_model')"
   ]
  },
  {
   "cell_type": "code",
   "execution_count": 11,
   "metadata": {},
   "outputs": [
    {
     "data": {
      "text/plain": [
       "156"
      ]
     },
     "execution_count": 11,
     "metadata": {},
     "output_type": "execute_result"
    }
   ],
   "source": [
    "xgboost.best_ntree_limit"
   ]
  },
  {
   "cell_type": "code",
   "execution_count": null,
   "metadata": {},
   "outputs": [],
   "source": []
  }
 ],
 "metadata": {
  "kernelspec": {
   "display_name": "Python 3",
   "language": "python",
   "name": "python3"
  },
  "language_info": {
   "codemirror_mode": {
    "name": "ipython",
    "version": 3
   },
   "file_extension": ".py",
   "mimetype": "text/x-python",
   "name": "python",
   "nbconvert_exporter": "python",
   "pygments_lexer": "ipython3",
   "version": "3.5.4"
  }
 },
 "nbformat": 4,
 "nbformat_minor": 2
}
