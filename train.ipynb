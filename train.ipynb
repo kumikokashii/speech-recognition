{
 "cells": [
  {
   "cell_type": "code",
   "execution_count": 1,
   "metadata": {},
   "outputs": [],
   "source": [
    "%load_ext autoreload\n",
    "%autoreload 2\n",
    "\n",
    "from kaggle_speech_recog import *\n",
    "import math"
   ]
  },
  {
   "cell_type": "markdown",
   "metadata": {},
   "source": [
    "# Get feature and label matrices"
   ]
  },
  {
   "cell_type": "code",
   "execution_count": 2,
   "metadata": {},
   "outputs": [
    {
     "name": "stdout",
     "output_type": "stream",
     "text": [
      "SKIPPED train/audio/_background_noise_/README.md File format b'# Ba'... not understood.\n"
     ]
    },
    {
     "name": "stderr",
     "output_type": "stream",
     "text": [
      "/usr/local/anaconda3/lib/python3.5/site-packages/scipy/io/wavfile.py:273: WavFileWarning: Chunk (non-data) not understood, skipping it.\n",
      "  WavFileWarning)\n"
     ]
    }
   ],
   "source": [
    "X_vector_len = 16000\n",
    "train = SpeechList.get_train('train/audio')\n",
    "XY_train_valid = train.get_X_and_Y_matrices(X_vector_len=X_vector_len, split=0.85)"
   ]
  },
  {
   "cell_type": "markdown",
   "metadata": {},
   "source": [
    "# Train\n",
    "* Hmm, sparse matrix doesnt work"
   ]
  },
  {
   "cell_type": "code",
   "execution_count": 3,
   "metadata": {},
   "outputs": [],
   "source": [
    "# Need this while testing graph so it gets autoloaded\n",
    "from kaggle_speech_recog.graphs.useful_tf_graph import *\n",
    "from kaggle_speech_recog.graphs.test_lstm import *"
   ]
  },
  {
   "cell_type": "code",
   "execution_count": 4,
   "metadata": {},
   "outputs": [],
   "source": [
    "graph_name = 'TestLSTM'  # Specify graph class name\n",
    "\n",
    "g_cnfg = Config('trial_graph')  # Specify graph configuration name\n",
    "g_cnfg.X_vector_len = X_vector_len\n",
    "g_cnfg.Y_vector_len = XY_train_valid[1].shape[1]\n",
    "g_cnfg.lstm_state_size = 100\n",
    "g_cnfg.n_hidden = 50\n",
    "g_cnfg.lr_initial = 0.1\n",
    "g_cnfg.lr_decay_steps = 10000\n",
    "g_cnfg.lr_decay_rate = 0.7  # 1.0 means no decay\n",
    "\n",
    "t_cnfg = Config('trial_run_01')  # Specify train configuration name\n",
    "t_cnfg.ckp_dir = 'checkpoints'\n",
    "t_cnfg.tb_dir = 'tensorboard'\n",
    "t_cnfg.log_dir = 'logs'\n",
    "t_cnfg.le = train.le\n",
    "t_cnfg.max_step = 100000000\n",
    "t_cnfg.batch_size = 150\n",
    "t_cnfg.dropout_keep_prob = 0.5\n",
    "t_cnfg.log_every = 50\n",
    "t_cnfg.print_every = math.ceil(XY_train_valid[0].shape[0]/t_cnfg.batch_size)  # every epoch\n",
    "t_cnfg.n_ave_ll_valid = 8\n",
    "t_cnfg.start_step_early_stopping = 100000000\n",
    "t_cnfg.early_stopping_patience =0.1"
   ]
  },
  {
   "cell_type": "code",
   "execution_count": 5,
   "metadata": {},
   "outputs": [
    {
     "name": "stdout",
     "output_type": "stream",
     "text": [
      "name: trial_graph\n",
      "X_vector_len: 16,000\n",
      "Y_vector_len: 31\n",
      "lr_decay_rate: 0.7\n",
      "lr_decay_steps: 10,000\n",
      "lr_initial: 0.1\n",
      "lstm_state_size: 100\n",
      "n_hidden: 50\n",
      "\n",
      "name: trial_run_01\n",
      "batch_size: 150\n",
      "ckp_dir: checkpoints\n",
      "dropout_keep_prob: 0.5\n",
      "early_stopping_patience: 0.1\n",
      "le: LabelEncoder()\n",
      "log_dir: logs\n",
      "log_every: 50\n",
      "max_step: 100,000,000\n",
      "n_ave_ll_valid: 8\n",
      "print_every: 367\n",
      "start_step_early_stopping: 100,000,000\n",
      "tb_dir: tensorboard\n",
      "\n",
      "============================================================\n",
      "TestLSTM_trial_graph_trial_run_01\n",
      "============================================================\n",
      "Training starts @ 12/03/2017 17:19:10\n",
      "Epoch 1 Step 1 Best model saved @ 12/03/2017 17:22:49 [Ave valid] 3.433\n",
      "Epoch 1 Step 1 ends @ 12/03/2017 17:22:49 [Train] 3.432, 4.7% [Valid] 3.1% [Ave valid] 3.433\n",
      "Epoch 1 Step 50 Best model saved @ 12/03/2017 17:35:48 [Ave valid] 3.428\n",
      "Epoch 1 Step 100 Best model saved @ 12/03/2017 17:49:17 [Ave valid] 3.424\n",
      "Epoch 1 Step 150 Best model saved @ 12/03/2017 18:02:43 [Ave valid] 3.421\n",
      "Epoch 1 Step 200 Best model saved @ 12/03/2017 18:16:08 [Ave valid] 3.418\n",
      "INFO:tensorflow:checkpoints/TestLSTM_trial_graph_trial_run_01/hourly/model-250 is not in all_model_checkpoint_paths. Manually adding it.\n",
      "Epoch 1 Step 250 Hourly model saved @ 12/03/2017 18:29:34\n",
      "Epoch 1 Step 250 Best model saved @ 12/03/2017 18:29:34 [Ave valid] 3.416\n",
      "Epoch 1 Step 300 Best model saved @ 12/03/2017 18:43:00 [Ave valid] 3.414\n",
      "Epoch 1 Step 350 Best model saved @ 12/03/2017 18:56:27 [Ave valid] 3.413\n",
      "Epoch 1 Step 367 Best model saved @ 12/03/2017 19:03:18 [Ave valid] 3.409\n",
      "Epoch 1 Step 367 ends @ 12/03/2017 19:03:18 [Train] 3.417, 3.4% [Valid] 3.4% [Ave valid] 3.409\n",
      "Epoch 2 Step 400 Best model saved @ 12/03/2017 19:13:22 [Ave valid] 3.406\n",
      "Epoch 2 Step 450 Best model saved @ 12/03/2017 19:26:49 [Ave valid] 3.405\n",
      "INFO:tensorflow:checkpoints/TestLSTM_trial_graph_trial_run_01/hourly/model-500 is not in all_model_checkpoint_paths. Manually adding it.\n",
      "Epoch 2 Step 500 Hourly model saved @ 12/03/2017 19:40:19\n",
      "Epoch 2 Step 500 Best model saved @ 12/03/2017 19:40:19 [Ave valid] 3.403\n",
      "Epoch 2 Step 550 Best model saved @ 12/03/2017 19:53:51 [Ave valid] 3.403\n",
      "Epoch 2 Step 600 Best model saved @ 12/03/2017 20:07:21 [Ave valid] 3.402\n",
      "Epoch 2 Step 650 Best model saved @ 12/03/2017 20:20:47 [Ave valid] 3.401\n",
      "Epoch 2 Step 700 Best model saved @ 12/03/2017 20:33:53 [Ave valid] 3.400\n",
      "INFO:tensorflow:checkpoints/TestLSTM_trial_graph_trial_run_01/hourly/model-734 is not in all_model_checkpoint_paths. Manually adding it.\n",
      "Epoch 2 Step 734 Hourly model saved @ 12/03/2017 20:43:53\n",
      "Epoch 2 Step 734 Best model saved @ 12/03/2017 20:43:53 [Ave valid] 3.400\n",
      "Epoch 2 Step 734 ends @ 12/03/2017 20:43:53 [Train] 3.394, 4.3% [Valid] 3.5% [Ave valid] 3.400\n",
      "Epoch 3 Step 750 Best model saved @ 12/03/2017 20:50:26 [Ave valid] 3.399\n",
      "Epoch 3 Step 800 Best model saved @ 12/03/2017 21:03:34 [Ave valid] 3.399\n",
      "Epoch 3 Step 850 Best model saved @ 12/03/2017 21:16:39 [Ave valid] 3.398\n",
      "Epoch 3 Step 900 Best model saved @ 12/03/2017 21:29:43 [Ave valid] 3.398\n",
      "Epoch 3 Step 950 Best model saved @ 12/03/2017 21:42:49 [Ave valid] 3.398\n",
      "INFO:tensorflow:checkpoints/TestLSTM_trial_graph_trial_run_01/hourly/model-1000 is not in all_model_checkpoint_paths. Manually adding it.\n",
      "Epoch 3 Step 1,000 Hourly model saved @ 12/03/2017 21:55:53\n",
      "Epoch 3 Step 1,000 Best model saved @ 12/03/2017 21:55:53 [Ave valid] 3.398\n",
      "Epoch 3 Step 1,050 Best model saved @ 12/03/2017 22:08:58 [Ave valid] 3.397\n",
      "Epoch 3 Step 1,100 Best model saved @ 12/03/2017 22:22:04 [Ave valid] 3.397\n",
      "Epoch 3 Step 1,101 Best model saved @ 12/03/2017 22:25:40 [Ave valid] 3.397\n",
      "Epoch 3 Step 1,101 ends @ 12/03/2017 22:25:40 [Train] 3.362, 7.7% [Valid] 3.7% [Ave valid] 3.397\n",
      "Epoch 4 Step 1,150 Best model saved @ 12/03/2017 22:38:35 [Ave valid] 3.397\n",
      "Epoch 4 Step 1,200 Best model saved @ 12/03/2017 22:51:39 [Ave valid] 3.397\n",
      "INFO:tensorflow:checkpoints/TestLSTM_trial_graph_trial_run_01/hourly/model-1250 is not in all_model_checkpoint_paths. Manually adding it.\n",
      "Epoch 4 Step 1,250 Hourly model saved @ 12/03/2017 23:04:43\n",
      "Epoch 4 Step 1,250 Best model saved @ 12/03/2017 23:04:44 [Ave valid] 3.397\n",
      "Epoch 4 Step 1,300 Best model saved @ 12/03/2017 23:17:49 [Ave valid] 3.397\n",
      "Epoch 4 Step 1,350 Best model saved @ 12/03/2017 23:30:54 [Ave valid] 3.397\n"
     ]
    },
    {
     "ename": "KeyboardInterrupt",
     "evalue": "",
     "output_type": "error",
     "traceback": [
      "\u001b[0;31m---------------------------------------------------------------------------\u001b[0m",
      "\u001b[0;31mKeyboardInterrupt\u001b[0m                         Traceback (most recent call last)",
      "\u001b[0;32m<ipython-input-5-d13c7f3a1677>\u001b[0m in \u001b[0;36m<module>\u001b[0;34m()\u001b[0m\n\u001b[1;32m      4\u001b[0m \u001b[0mGraphClass\u001b[0m \u001b[0;34m=\u001b[0m \u001b[0mglobals\u001b[0m\u001b[0;34m(\u001b[0m\u001b[0;34m)\u001b[0m\u001b[0;34m[\u001b[0m\u001b[0mgraph_name\u001b[0m\u001b[0;34m]\u001b[0m\u001b[0;34m\u001b[0m\u001b[0m\n\u001b[1;32m      5\u001b[0m \u001b[0mgraph\u001b[0m \u001b[0;34m=\u001b[0m \u001b[0mGraphClass\u001b[0m\u001b[0;34m(\u001b[0m\u001b[0mg_cnfg\u001b[0m\u001b[0;34m)\u001b[0m\u001b[0;34m\u001b[0m\u001b[0m\n\u001b[0;32m----> 6\u001b[0;31m \u001b[0mgraph\u001b[0m\u001b[0;34m.\u001b[0m\u001b[0mtrain_model\u001b[0m\u001b[0;34m(\u001b[0m\u001b[0mt_cnfg\u001b[0m\u001b[0;34m,\u001b[0m \u001b[0mXY_train_valid\u001b[0m\u001b[0;34m)\u001b[0m\u001b[0;34m\u001b[0m\u001b[0m\n\u001b[0m",
      "\u001b[0;32m~/ML/speech-recognition/kaggle_speech_recog/graphs/useful_tf_graph.py\u001b[0m in \u001b[0;36mtrain_model\u001b[0;34m(self, cnfg, XY_train_valid, annotate)\u001b[0m\n\u001b[1;32m     66\u001b[0m                                                          feed_dict={self.X: X_batch, self.Y: Y_batch, \n\u001b[1;32m     67\u001b[0m                                                                     self.keep_prob: 1.0, self.is_training: False})\n\u001b[0;32m---> 68\u001b[0;31m                     \u001b[0maccu_valid\u001b[0m\u001b[0;34m,\u001b[0m \u001b[0mll_valid\u001b[0m \u001b[0;34m=\u001b[0m \u001b[0mself\u001b[0m\u001b[0;34m.\u001b[0m\u001b[0mget_accu_ll_valid\u001b[0m\u001b[0;34m(\u001b[0m\u001b[0;34m)\u001b[0m  \u001b[0;31m# Split into batches to avoid running out of resource\u001b[0m\u001b[0;34m\u001b[0m\u001b[0m\n\u001b[0m\u001b[1;32m     69\u001b[0m \u001b[0;34m\u001b[0m\u001b[0m\n\u001b[1;32m     70\u001b[0m                     \u001b[0mself\u001b[0m\u001b[0;34m.\u001b[0m\u001b[0msave_basics\u001b[0m\u001b[0;34m(\u001b[0m\u001b[0mstep\u001b[0m\u001b[0;34m,\u001b[0m \u001b[0mepoch\u001b[0m\u001b[0;34m,\u001b[0m \u001b[0maccu_train\u001b[0m\u001b[0;34m,\u001b[0m \u001b[0mll_train\u001b[0m\u001b[0;34m,\u001b[0m \u001b[0maccu_valid\u001b[0m\u001b[0;34m,\u001b[0m \u001b[0mll_valid\u001b[0m\u001b[0;34m,\u001b[0m \u001b[0msummary\u001b[0m\u001b[0;34m)\u001b[0m\u001b[0;34m\u001b[0m\u001b[0m\n",
      "\u001b[0;32m~/ML/speech-recognition/kaggle_speech_recog/graphs/useful_tf_graph.py\u001b[0m in \u001b[0;36mget_accu_ll_valid\u001b[0;34m(self)\u001b[0m\n\u001b[1;32m    161\u001b[0m             batch_accu_valid, batch_ll_valid = self.sess.run([self.accuracy_batch_count, self.logloss_batch_sum],\n\u001b[1;32m    162\u001b[0m                                                              feed_dict={self.X: X_batch, self.Y: Y_batch, \n\u001b[0;32m--> 163\u001b[0;31m                                                                         self.keep_prob: 1.0, self.is_training: False})\n\u001b[0m\u001b[1;32m    164\u001b[0m             \u001b[0mcount_accu_valid\u001b[0m \u001b[0;34m+=\u001b[0m \u001b[0mbatch_accu_valid\u001b[0m\u001b[0;34m\u001b[0m\u001b[0m\n\u001b[1;32m    165\u001b[0m             \u001b[0msum_ll_valid\u001b[0m \u001b[0;34m+=\u001b[0m \u001b[0mbatch_ll_valid\u001b[0m\u001b[0;34m\u001b[0m\u001b[0m\n",
      "\u001b[0;32m/usr/local/anaconda3/lib/python3.5/site-packages/tensorflow/python/client/session.py\u001b[0m in \u001b[0;36mrun\u001b[0;34m(self, fetches, feed_dict, options, run_metadata)\u001b[0m\n\u001b[1;32m    887\u001b[0m     \u001b[0;32mtry\u001b[0m\u001b[0;34m:\u001b[0m\u001b[0;34m\u001b[0m\u001b[0m\n\u001b[1;32m    888\u001b[0m       result = self._run(None, fetches, feed_dict, options_ptr,\n\u001b[0;32m--> 889\u001b[0;31m                          run_metadata_ptr)\n\u001b[0m\u001b[1;32m    890\u001b[0m       \u001b[0;32mif\u001b[0m \u001b[0mrun_metadata\u001b[0m\u001b[0;34m:\u001b[0m\u001b[0;34m\u001b[0m\u001b[0m\n\u001b[1;32m    891\u001b[0m         \u001b[0mproto_data\u001b[0m \u001b[0;34m=\u001b[0m \u001b[0mtf_session\u001b[0m\u001b[0;34m.\u001b[0m\u001b[0mTF_GetBuffer\u001b[0m\u001b[0;34m(\u001b[0m\u001b[0mrun_metadata_ptr\u001b[0m\u001b[0;34m)\u001b[0m\u001b[0;34m\u001b[0m\u001b[0m\n",
      "\u001b[0;32m/usr/local/anaconda3/lib/python3.5/site-packages/tensorflow/python/client/session.py\u001b[0m in \u001b[0;36m_run\u001b[0;34m(self, handle, fetches, feed_dict, options, run_metadata)\u001b[0m\n\u001b[1;32m   1118\u001b[0m     \u001b[0;32mif\u001b[0m \u001b[0mfinal_fetches\u001b[0m \u001b[0;32mor\u001b[0m \u001b[0mfinal_targets\u001b[0m \u001b[0;32mor\u001b[0m \u001b[0;34m(\u001b[0m\u001b[0mhandle\u001b[0m \u001b[0;32mand\u001b[0m \u001b[0mfeed_dict_tensor\u001b[0m\u001b[0;34m)\u001b[0m\u001b[0;34m:\u001b[0m\u001b[0;34m\u001b[0m\u001b[0m\n\u001b[1;32m   1119\u001b[0m       results = self._do_run(handle, final_targets, final_fetches,\n\u001b[0;32m-> 1120\u001b[0;31m                              feed_dict_tensor, options, run_metadata)\n\u001b[0m\u001b[1;32m   1121\u001b[0m     \u001b[0;32melse\u001b[0m\u001b[0;34m:\u001b[0m\u001b[0;34m\u001b[0m\u001b[0m\n\u001b[1;32m   1122\u001b[0m       \u001b[0mresults\u001b[0m \u001b[0;34m=\u001b[0m \u001b[0;34m[\u001b[0m\u001b[0;34m]\u001b[0m\u001b[0;34m\u001b[0m\u001b[0m\n",
      "\u001b[0;32m/usr/local/anaconda3/lib/python3.5/site-packages/tensorflow/python/client/session.py\u001b[0m in \u001b[0;36m_do_run\u001b[0;34m(self, handle, target_list, fetch_list, feed_dict, options, run_metadata)\u001b[0m\n\u001b[1;32m   1315\u001b[0m     \u001b[0;32mif\u001b[0m \u001b[0mhandle\u001b[0m \u001b[0;32mis\u001b[0m \u001b[0;32mNone\u001b[0m\u001b[0;34m:\u001b[0m\u001b[0;34m\u001b[0m\u001b[0m\n\u001b[1;32m   1316\u001b[0m       return self._do_call(_run_fn, self._session, feeds, fetches, targets,\n\u001b[0;32m-> 1317\u001b[0;31m                            options, run_metadata)\n\u001b[0m\u001b[1;32m   1318\u001b[0m     \u001b[0;32melse\u001b[0m\u001b[0;34m:\u001b[0m\u001b[0;34m\u001b[0m\u001b[0m\n\u001b[1;32m   1319\u001b[0m       \u001b[0;32mreturn\u001b[0m \u001b[0mself\u001b[0m\u001b[0;34m.\u001b[0m\u001b[0m_do_call\u001b[0m\u001b[0;34m(\u001b[0m\u001b[0m_prun_fn\u001b[0m\u001b[0;34m,\u001b[0m \u001b[0mself\u001b[0m\u001b[0;34m.\u001b[0m\u001b[0m_session\u001b[0m\u001b[0;34m,\u001b[0m \u001b[0mhandle\u001b[0m\u001b[0;34m,\u001b[0m \u001b[0mfeeds\u001b[0m\u001b[0;34m,\u001b[0m \u001b[0mfetches\u001b[0m\u001b[0;34m)\u001b[0m\u001b[0;34m\u001b[0m\u001b[0m\n",
      "\u001b[0;32m/usr/local/anaconda3/lib/python3.5/site-packages/tensorflow/python/client/session.py\u001b[0m in \u001b[0;36m_do_call\u001b[0;34m(self, fn, *args)\u001b[0m\n\u001b[1;32m   1321\u001b[0m   \u001b[0;32mdef\u001b[0m \u001b[0m_do_call\u001b[0m\u001b[0;34m(\u001b[0m\u001b[0mself\u001b[0m\u001b[0;34m,\u001b[0m \u001b[0mfn\u001b[0m\u001b[0;34m,\u001b[0m \u001b[0;34m*\u001b[0m\u001b[0margs\u001b[0m\u001b[0;34m)\u001b[0m\u001b[0;34m:\u001b[0m\u001b[0;34m\u001b[0m\u001b[0m\n\u001b[1;32m   1322\u001b[0m     \u001b[0;32mtry\u001b[0m\u001b[0;34m:\u001b[0m\u001b[0;34m\u001b[0m\u001b[0m\n\u001b[0;32m-> 1323\u001b[0;31m       \u001b[0;32mreturn\u001b[0m \u001b[0mfn\u001b[0m\u001b[0;34m(\u001b[0m\u001b[0;34m*\u001b[0m\u001b[0margs\u001b[0m\u001b[0;34m)\u001b[0m\u001b[0;34m\u001b[0m\u001b[0m\n\u001b[0m\u001b[1;32m   1324\u001b[0m     \u001b[0;32mexcept\u001b[0m \u001b[0merrors\u001b[0m\u001b[0;34m.\u001b[0m\u001b[0mOpError\u001b[0m \u001b[0;32mas\u001b[0m \u001b[0me\u001b[0m\u001b[0;34m:\u001b[0m\u001b[0;34m\u001b[0m\u001b[0m\n\u001b[1;32m   1325\u001b[0m       \u001b[0mmessage\u001b[0m \u001b[0;34m=\u001b[0m \u001b[0mcompat\u001b[0m\u001b[0;34m.\u001b[0m\u001b[0mas_text\u001b[0m\u001b[0;34m(\u001b[0m\u001b[0me\u001b[0m\u001b[0;34m.\u001b[0m\u001b[0mmessage\u001b[0m\u001b[0;34m)\u001b[0m\u001b[0;34m\u001b[0m\u001b[0m\n",
      "\u001b[0;32m/usr/local/anaconda3/lib/python3.5/site-packages/tensorflow/python/client/session.py\u001b[0m in \u001b[0;36m_run_fn\u001b[0;34m(session, feed_dict, fetch_list, target_list, options, run_metadata)\u001b[0m\n\u001b[1;32m   1300\u001b[0m           return tf_session.TF_Run(session, options,\n\u001b[1;32m   1301\u001b[0m                                    \u001b[0mfeed_dict\u001b[0m\u001b[0;34m,\u001b[0m \u001b[0mfetch_list\u001b[0m\u001b[0;34m,\u001b[0m \u001b[0mtarget_list\u001b[0m\u001b[0;34m,\u001b[0m\u001b[0;34m\u001b[0m\u001b[0m\n\u001b[0;32m-> 1302\u001b[0;31m                                    status, run_metadata)\n\u001b[0m\u001b[1;32m   1303\u001b[0m \u001b[0;34m\u001b[0m\u001b[0m\n\u001b[1;32m   1304\u001b[0m     \u001b[0;32mdef\u001b[0m \u001b[0m_prun_fn\u001b[0m\u001b[0;34m(\u001b[0m\u001b[0msession\u001b[0m\u001b[0;34m,\u001b[0m \u001b[0mhandle\u001b[0m\u001b[0;34m,\u001b[0m \u001b[0mfeed_dict\u001b[0m\u001b[0;34m,\u001b[0m \u001b[0mfetch_list\u001b[0m\u001b[0;34m)\u001b[0m\u001b[0;34m:\u001b[0m\u001b[0;34m\u001b[0m\u001b[0m\n",
      "\u001b[0;31mKeyboardInterrupt\u001b[0m: "
     ]
    }
   ],
   "source": [
    "print(g_cnfg)\n",
    "print(t_cnfg)\n",
    "\n",
    "GraphClass = globals()[graph_name]\n",
    "graph = GraphClass(g_cnfg)\n",
    "graph.train_model(t_cnfg, XY_train_valid)"
   ]
  },
  {
   "cell_type": "code",
   "execution_count": null,
   "metadata": {},
   "outputs": [],
   "source": []
  }
 ],
 "metadata": {
  "kernelspec": {
   "display_name": "Python 3",
   "language": "python",
   "name": "python3"
  },
  "language_info": {
   "codemirror_mode": {
    "name": "ipython",
    "version": 3
   },
   "file_extension": ".py",
   "mimetype": "text/x-python",
   "name": "python",
   "nbconvert_exporter": "python",
   "pygments_lexer": "ipython3",
   "version": "3.5.4"
  }
 },
 "nbformat": 4,
 "nbformat_minor": 2
}
