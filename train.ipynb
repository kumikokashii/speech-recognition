{
 "cells": [
  {
   "cell_type": "code",
   "execution_count": 1,
   "metadata": {},
   "outputs": [],
   "source": [
    "%load_ext autoreload\n",
    "%autoreload 2\n",
    "\n",
    "from kaggle_speech_recog import *\n",
    "import math"
   ]
  },
  {
   "cell_type": "markdown",
   "metadata": {},
   "source": [
    "# Get feature and label matrices"
   ]
  },
  {
   "cell_type": "code",
   "execution_count": 2,
   "metadata": {},
   "outputs": [
    {
     "name": "stdout",
     "output_type": "stream",
     "text": [
      "SKIPPED train/audio/_background_noise_/README.md File format b'# Ba'... not understood.\n"
     ]
    },
    {
     "name": "stderr",
     "output_type": "stream",
     "text": [
      "/usr/local/anaconda3/lib/python3.5/site-packages/scipy/io/wavfile.py:273: WavFileWarning: Chunk (non-data) not understood, skipping it.\n",
      "  WavFileWarning)\n",
      "/usr/local/anaconda3/lib/python3.5/site-packages/librosa/filters.py:261: UserWarning: Empty filters detected in mel frequency basis. Some channels will produce empty responses. Try increasing your sampling rate (and fmax) or reducing n_mels.\n",
      "  warnings.warn('Empty filters detected in mel frequency basis. '\n"
     ]
    }
   ],
   "source": [
    "X_vector_len = 16000\n",
    "train = SpeechList.get_train('train/audio')\n",
    "XY_train_valid = train.get_group_unknown_spectrogram_X_and_Y(X_vector_len=X_vector_len, spec_v='3', take_log=False, \n",
    "                                                             split_noise=True, n_fabricate_noise=1600, \n",
    "                                                             split=0.85)\n",
    "\n",
    "# If using group_unknown, the output is: X_train_known, X_train_unknown, Y_train_known, Y_train_unknown, X_valid, Y_valid\n",
    "# Otherwise: X_train, Y_train, X_valid, Y_valid"
   ]
  },
  {
   "cell_type": "markdown",
   "metadata": {},
   "source": [
    "# Train"
   ]
  },
  {
   "cell_type": "code",
   "execution_count": 8,
   "metadata": {},
   "outputs": [],
   "source": [
    "# Helper function\n",
    "def get_shape_after_skipping(initial_shape, strides_list):\n",
    "    h, w = initial_shape\n",
    "    for strides in strides_list:\n",
    "        h = math.ceil(h / strides[0])\n",
    "        w = math.ceil(w / strides[1])\n",
    "    return h, w"
   ]
  },
  {
   "cell_type": "code",
   "execution_count": 9,
   "metadata": {},
   "outputs": [],
   "source": [
    "# Need this while testing graph so it gets autoloaded\n",
    "from kaggle_speech_recog.graphs.useful_tf_graph import *\n",
    "from kaggle_speech_recog.graphs.spectrogram_concat_clstm import *"
   ]
  },
  {
   "cell_type": "code",
   "execution_count": 12,
   "metadata": {},
   "outputs": [],
   "source": [
    "graph_name = 'SpectrogramConcatCLSTM'  # Specify graph class name\n",
    "\n",
    "g_cnfg = Config('graph_01')  # Specify graph configuration name\n",
    "g_cnfg.X_img_h = XY_train_valid[0].shape[1]\n",
    "g_cnfg.X_img_w = XY_train_valid[0].shape[2]\n",
    "g_cnfg.Y_vector_len = XY_train_valid[-1].shape[1]\n",
    "\n",
    "g_cnfg.random_modify_brightness_max_delta = 0.25\n",
    "g_cnfg.random_modify_contrast_lower = 0.2\n",
    "g_cnfg.random_modify_contrast_upper = 1.8\n",
    "\n",
    "g_cnfg.conv_keep_prob = 0.9\n",
    "g_cnfg.conv_n_filters = 32\n",
    "g_cnfg.conv_kernel_size = (10, 10)  # height, width\n",
    "g_cnfg.conv_mp_size = (2, 1)  # height, width\n",
    "g_cnfg.conv_mp_strides = (2, 1)  # height, width\n",
    "\n",
    "g_cnfg.dim_per_time_after_conv = math.ceil(g_cnfg.X_img_h / g_cnfg.conv_mp_strides[0]) * g_cnfg.conv_n_filters\n",
    "\n",
    "g_cnfg.lstm_state_sizes = [100, 200]\n",
    "g_cnfg.n_hidden = 50\n",
    "\n",
    "g_cnfg.lr_initial = 0.1\n",
    "g_cnfg.lr_decay_steps = 1000000\n",
    "g_cnfg.lr_decay_rate = 1.0  # 1.0 means no decay\n",
    "\n",
    "t_cnfg = Config('run_02_group_unknown')  # Specify train configuration name\n",
    "t_cnfg.ckp_dir = 'checkpoints'\n",
    "t_cnfg.tb_dir = 'tensorboard'\n",
    "t_cnfg.log_dir = 'logs'\n",
    "t_cnfg.le = train.le\n",
    "t_cnfg.random_pick_unknown = True\n",
    "t_cnfg.max_step = 100000000\n",
    "t_cnfg.batch_size = 150\n",
    "t_cnfg.add_noise = (0.5, [s.spec_data for s in train.get_list_of_label(['_background_noise_'])])\n",
    "t_cnfg.dropout_keep_prob = 0.75\n",
    "t_cnfg.log_every = 50\n",
    "t_cnfg.print_every = math.ceil(XY_train_valid[0].shape[0] / t_cnfg.batch_size)  # every epoch\n",
    "t_cnfg.n_ave_ll_valid = 8\n",
    "t_cnfg.start_step_early_stopping = 100000000\n",
    "t_cnfg.early_stopping_patience =0.1"
   ]
  },
  {
   "cell_type": "code",
   "execution_count": null,
   "metadata": {
    "scrolled": false
   },
   "outputs": [
    {
     "name": "stdout",
     "output_type": "stream",
     "text": [
      "name: graph_01\n",
      "X_img_h: 128\n",
      "X_img_w: 71\n",
      "Y_vector_len: 12\n",
      "conv_keep_prob: 0.9\n",
      "conv_kernel_size: (10, 10)\n",
      "conv_mp_size: (2, 1)\n",
      "conv_mp_strides: (2, 1)\n",
      "conv_n_filters: 32\n",
      "dim_per_time_after_conv: 2,048\n",
      "lr_decay_rate: 1.0\n",
      "lr_decay_steps: 1,000,000\n",
      "lr_initial: 0.1\n",
      "lstm_state_sizes: [100, 200]\n",
      "n_hidden: 50\n",
      "random_modify_brightness_max_delta: 0.25\n",
      "random_modify_contrast_lower: 0.2\n",
      "random_modify_contrast_upper: 1.8\n",
      "\n",
      "name: run_02_group_unknown\n",
      "add_noise: (0.5, 'list of length 2,002')\n",
      "batch_size: 150\n",
      "ckp_dir: checkpoints\n",
      "dropout_keep_prob: 0.75\n",
      "early_stopping_patience: 0.1\n",
      "le: LabelEncoder()\n",
      "log_dir: logs\n",
      "log_every: 50\n",
      "max_step: 100,000,000\n",
      "n_ave_ll_valid: 8\n",
      "print_every: 146\n",
      "random_pick_unknown: 1\n",
      "start_step_early_stopping: 100,000,000\n",
      "tb_dir: tensorboard\n",
      "\n",
      "============================================================\n",
      "SpectrogramConcatCLSTM_graph_01_run_02_group_unknown\n",
      "============================================================\n",
      "Training starts @ 01/08/2018 04:00:50\n",
      "Epoch 1 Step 1 Best model saved @ 01/08/2018 04:00:57 [Ave valid] 2.485\n",
      "Epoch 1 Step 1 ends @ 01/08/2018 04:00:57 [Train] 2.485, 6.0% [Valid] 10.4% [Ave valid] 2.485\n",
      "Epoch 1 Step 146 ends @ 01/08/2018 04:02:08 [Train] 2.450, 10.7% [Valid] 8.8% [Ave valid] 2.491\n",
      "Epoch 2 Step 292 ends @ 01/08/2018 04:03:26 [Train] 2.509, 9.3% [Valid] 9.6% [Ave valid] 2.496\n",
      "Epoch 2 Step 300 Best model saved @ 01/08/2018 04:03:33 [Ave valid] 2.484\n",
      "Epoch 3 Step 400 Best model saved @ 01/08/2018 04:04:27 [Ave valid] 2.472\n",
      "Epoch 3 Step 438 ends @ 01/08/2018 04:04:44 [Train] 2.467, 10.0% [Valid] 12.1% [Ave valid] 2.472\n",
      "Epoch 3 Step 450 Best model saved @ 01/08/2018 04:04:53 [Ave valid] 2.427\n",
      "Epoch 4 Step 550 Best model saved @ 01/08/2018 04:05:48 [Ave valid] 2.338\n",
      "Epoch 4 Step 584 ends @ 01/08/2018 04:06:02 [Train] 2.032, 34.7% [Valid] 49.3% [Ave valid] 2.338\n",
      "Epoch 4 Step 600 Best model saved @ 01/08/2018 04:06:13 [Ave valid] 2.262\n",
      "Epoch 5 Step 650 Best model saved @ 01/08/2018 04:06:42 [Ave valid] 2.259\n",
      "Epoch 5 Step 700 Best model saved @ 01/08/2018 04:07:08 [Ave valid] 2.163\n",
      "Epoch 5 Step 730 ends @ 01/08/2018 04:07:21 [Train] 2.001, 39.3% [Valid] 52.5% [Ave valid] 2.163\n",
      "Epoch 5 Step 750 Best model saved @ 01/08/2018 04:07:34 [Ave valid] 2.084\n",
      "Epoch 6 Step 800 Best model saved @ 01/08/2018 04:08:03 [Ave valid] 2.068\n",
      "Epoch 6 Step 850 Best model saved @ 01/08/2018 04:08:28 [Ave valid] 1.985\n",
      "Epoch 6 Step 876 ends @ 01/08/2018 04:08:40 [Train] 1.321, 62.0% [Valid] 72.6% [Ave valid] 1.985\n",
      "Epoch 6 Step 900 Best model saved @ 01/08/2018 04:08:55 [Ave valid] 1.894\n"
     ]
    }
   ],
   "source": [
    "print(g_cnfg)\n",
    "print(t_cnfg)\n",
    "\n",
    "GraphClass = globals()[graph_name]\n",
    "graph = GraphClass(g_cnfg)\n",
    "graph.train_model(t_cnfg, XY_train_valid)"
   ]
  },
  {
   "cell_type": "code",
   "execution_count": null,
   "metadata": {},
   "outputs": [],
   "source": []
  }
 ],
 "metadata": {
  "kernelspec": {
   "display_name": "Python 3",
   "language": "python",
   "name": "python3"
  },
  "language_info": {
   "codemirror_mode": {
    "name": "ipython",
    "version": 3
   },
   "file_extension": ".py",
   "mimetype": "text/x-python",
   "name": "python",
   "nbconvert_exporter": "python",
   "pygments_lexer": "ipython3",
   "version": "3.5.4"
  }
 },
 "nbformat": 4,
 "nbformat_minor": 2
}
