{
 "cells": [
  {
   "cell_type": "code",
   "execution_count": 1,
   "metadata": {},
   "outputs": [],
   "source": [
    "%load_ext autoreload\n",
    "%autoreload 2\n",
    "\n",
    "from kaggle_speech_recog import *\n",
    "import math"
   ]
  },
  {
   "cell_type": "markdown",
   "metadata": {},
   "source": [
    "# Get feature and label matrices"
   ]
  },
  {
   "cell_type": "code",
   "execution_count": 2,
   "metadata": {},
   "outputs": [
    {
     "name": "stdout",
     "output_type": "stream",
     "text": [
      "SKIPPED train/audio/_background_noise_/README.md File format b'# Ba'... not understood.\n"
     ]
    },
    {
     "name": "stderr",
     "output_type": "stream",
     "text": [
      "/usr/local/anaconda3/lib/python3.5/site-packages/scipy/io/wavfile.py:273: WavFileWarning: Chunk (non-data) not understood, skipping it.\n",
      "  WavFileWarning)\n"
     ]
    }
   ],
   "source": [
    "X_vector_len = 16000\n",
    "train = SpeechList.get_train('train/audio')\n",
    "XY_train_valid = train.get_spectrogram_X_and_Y(X_vector_len=X_vector_len, take_log=True, split=0.85)"
   ]
  },
  {
   "cell_type": "markdown",
   "metadata": {},
   "source": [
    "# Train\n",
    "* Hmm, sparse matrix doesnt work"
   ]
  },
  {
   "cell_type": "code",
   "execution_count": 3,
   "metadata": {},
   "outputs": [],
   "source": [
    "# Need this while testing graph so it gets autoloaded\n",
    "from kaggle_speech_recog.graphs.useful_tf_graph import *\n",
    "from kaggle_speech_recog.graphs.test_spectrogram_conv import *"
   ]
  },
  {
   "cell_type": "code",
   "execution_count": 13,
   "metadata": {},
   "outputs": [],
   "source": [
    "graph_name = 'TestSpectrogramConv'  # Specify graph class name\n",
    "\n",
    "g_cnfg = Config('trial_graph')  # Specify graph configuration name\n",
    "g_cnfg.X_img_h = XY_train_valid[0].shape[1]\n",
    "g_cnfg.X_img_w = XY_train_valid[0].shape[2]\n",
    "g_cnfg.Y_vector_len = XY_train_valid[1].shape[1]\n",
    "\n",
    "g_cnfg.conv1_n_filters = 16\n",
    "g_cnfg.conv1_kernel_size = 5\n",
    "g_cnfg.conv1_mp_size = 5\n",
    "g_cnfg.conv1_mp_strides = 2\n",
    "\n",
    "g_cnfg.n_hidden = 50\n",
    "g_cnfg.lr_initial = 0.1\n",
    "g_cnfg.lr_decay_steps = 1000000\n",
    "g_cnfg.lr_decay_rate = 0.7  # 1.0 means no decay\n",
    "\n",
    "t_cnfg = Config('trial_run_01')  # Specify train configuration name\n",
    "t_cnfg.ckp_dir = 'checkpoints'\n",
    "t_cnfg.tb_dir = 'tensorboard'\n",
    "t_cnfg.log_dir = 'logs'\n",
    "t_cnfg.le = train.le\n",
    "t_cnfg.max_step = 100000000\n",
    "t_cnfg.batch_size = 150\n",
    "t_cnfg.dropout_keep_prob = 0.5\n",
    "t_cnfg.log_every = 50\n",
    "t_cnfg.print_every = math.ceil(XY_train_valid[0].shape[0]/t_cnfg.batch_size)  # every epoch\n",
    "t_cnfg.n_ave_ll_valid = 8\n",
    "t_cnfg.start_step_early_stopping = 100000000\n",
    "t_cnfg.early_stopping_patience =0.1"
   ]
  },
  {
   "cell_type": "code",
   "execution_count": 14,
   "metadata": {},
   "outputs": [
    {
     "name": "stdout",
     "output_type": "stream",
     "text": [
      "name: trial_graph\n",
      "X_img_h: 129\n",
      "X_img_w: 71\n",
      "Y_vector_len: 31\n",
      "conv1_kernel_size: 5\n",
      "conv1_mp_size: 5\n",
      "conv1_mp_strides: 2\n",
      "conv1_n_filters: 16\n",
      "lr_decay_rate: 0.7\n",
      "lr_decay_steps: 1,000,000\n",
      "lr_initial: 0.1\n",
      "n_hidden: 50\n",
      "\n",
      "name: trial_run_01\n",
      "batch_size: 150\n",
      "ckp_dir: checkpoints\n",
      "dropout_keep_prob: 0.5\n",
      "early_stopping_patience: 0.1\n",
      "le: LabelEncoder()\n",
      "log_dir: logs\n",
      "log_every: 50\n",
      "max_step: 100,000,000\n",
      "n_ave_ll_valid: 8\n",
      "print_every: 367\n",
      "start_step_early_stopping: 100,000,000\n",
      "tb_dir: tensorboard\n",
      "\n",
      "============================================================\n",
      "TestSpectrogramConv_trial_graph_trial_run_01\n",
      "============================================================\n",
      "Training starts @ 12/09/2017 14:47:05\n",
      "Epoch 1 Step 1 Best model saved @ 12/09/2017 14:47:06 [Ave valid] 3.481\n",
      "Epoch 1 Step 1 ends @ 12/09/2017 14:47:06 [Train] 3.347, 7.3% [Valid] 3.0% [Ave valid] 3.481\n",
      "Epoch 1 Step 250 Best model saved @ 12/09/2017 14:47:37 [Ave valid] 3.416\n",
      "Epoch 1 Step 300 Best model saved @ 12/09/2017 14:47:43 [Ave valid] 3.291\n",
      "Epoch 1 Step 350 Best model saved @ 12/09/2017 14:47:49 [Ave valid] 3.142\n",
      "Epoch 1 Step 367 Best model saved @ 12/09/2017 14:47:52 [Ave valid] 3.019\n",
      "Epoch 1 Step 367 ends @ 12/09/2017 14:47:52 [Train] 1.411, 58.1% [Valid] 38.8% [Ave valid] 3.019\n",
      "Epoch 2 Step 400 Best model saved @ 12/09/2017 14:47:57 [Ave valid] 2.821\n",
      "Epoch 2 Step 450 Best model saved @ 12/09/2017 14:48:03 [Ave valid] 2.601\n",
      "Epoch 2 Step 500 Best model saved @ 12/09/2017 14:48:09 [Ave valid] 2.324\n",
      "Epoch 2 Step 550 Best model saved @ 12/09/2017 14:48:15 [Ave valid] 2.156\n",
      "Epoch 2 Step 600 Best model saved @ 12/09/2017 14:48:21 [Ave valid] 2.010\n",
      "Epoch 2 Step 650 Best model saved @ 12/09/2017 14:48:28 [Ave valid] 1.930\n",
      "Epoch 2 Step 700 Best model saved @ 12/09/2017 14:48:34 [Ave valid] 1.860\n",
      "Epoch 2 Step 734 Best model saved @ 12/09/2017 14:48:38 [Ave valid] 1.719\n",
      "Epoch 2 Step 734 ends @ 12/09/2017 14:48:38 [Train] 0.740, 79.5% [Valid] 60.0% [Ave valid] 1.719\n",
      "Epoch 3 Step 750 Best model saved @ 12/09/2017 14:48:42 [Ave valid] 1.641\n",
      "Epoch 3 Step 800 Best model saved @ 12/09/2017 14:48:48 [Ave valid] 1.506\n",
      "Epoch 3 Step 850 Best model saved @ 12/09/2017 14:48:54 [Ave valid] 1.490\n",
      "Epoch 3 Step 900 Best model saved @ 12/09/2017 14:49:00 [Ave valid] 1.462\n",
      "Epoch 3 Step 950 Best model saved @ 12/09/2017 14:49:06 [Ave valid] 1.406\n",
      "Epoch 3 Step 1,000 Best model saved @ 12/09/2017 14:49:12 [Ave valid] 1.319\n",
      "Epoch 3 Step 1,050 Best model saved @ 12/09/2017 14:49:19 [Ave valid] 1.260\n",
      "Epoch 3 Step 1,100 Best model saved @ 12/09/2017 14:49:25 [Ave valid] 1.219\n",
      "Epoch 3 Step 1,101 Best model saved @ 12/09/2017 14:49:25 [Ave valid] 1.193\n",
      "Epoch 3 Step 1,101 ends @ 12/09/2017 14:49:25 [Train] 0.708, 80.3% [Valid] 65.5% [Ave valid] 1.193\n",
      "Epoch 4 Step 1,150 Best model saved @ 12/09/2017 14:49:33 [Ave valid] 1.172\n",
      "Epoch 4 Step 1,200 Best model saved @ 12/09/2017 14:49:39 [Ave valid] 1.125\n",
      "Epoch 4 Step 1,250 Best model saved @ 12/09/2017 14:49:45 [Ave valid] 1.124\n",
      "Epoch 4 Step 1,300 Best model saved @ 12/09/2017 14:49:51 [Ave valid] 1.117\n",
      "Epoch 4 Step 1,350 Best model saved @ 12/09/2017 14:49:57 [Ave valid] 1.088\n",
      "Epoch 4 Step 1,400 Best model saved @ 12/09/2017 14:50:03 [Ave valid] 1.087\n",
      "Epoch 4 Step 1,450 Best model saved @ 12/09/2017 14:50:09 [Ave valid] 1.074\n",
      "Epoch 4 Step 1,468 Best model saved @ 12/09/2017 14:50:12 [Ave valid] 1.051\n",
      "Epoch 4 Step 1,468 ends @ 12/09/2017 14:50:12 [Train] 0.421, 88.9% [Valid] 71.7% [Ave valid] 1.051\n",
      "Epoch 5 Step 1,500 Best model saved @ 12/09/2017 14:50:17 [Ave valid] 1.038\n",
      "Epoch 5 Step 1,550 Best model saved @ 12/09/2017 14:50:23 [Ave valid] 1.035\n",
      "Epoch 5 Step 1,600 Best model saved @ 12/09/2017 14:50:30 [Ave valid] 1.024\n",
      "Epoch 5 Step 1,650 Best model saved @ 12/09/2017 14:50:36 [Ave valid] 1.009\n",
      "Epoch 5 Step 1,700 Best model saved @ 12/09/2017 14:50:42 [Ave valid] 1.001\n",
      "Epoch 5 Step 1,750 Best model saved @ 12/09/2017 14:50:48 [Ave valid] 0.985\n",
      "Epoch 5 Step 1,800 Best model saved @ 12/09/2017 14:50:54 [Ave valid] 0.984\n",
      "Epoch 5 Step 1,835 Best model saved @ 12/09/2017 14:50:59 [Ave valid] 0.974\n",
      "Epoch 5 Step 1,835 ends @ 12/09/2017 14:50:59 [Train] 0.431, 90.6% [Valid] 73.4% [Ave valid] 0.974\n",
      "Epoch 6 Step 1,850 Best model saved @ 12/09/2017 14:51:02 [Ave valid] 0.974\n",
      "Epoch 6 Step 1,900 Best model saved @ 12/09/2017 14:51:08 [Ave valid] 0.959\n",
      "Epoch 6 Step 1,950 Best model saved @ 12/09/2017 14:51:14 [Ave valid] 0.924\n",
      "Epoch 6 Step 2,000 Best model saved @ 12/09/2017 14:51:21 [Ave valid] 0.913\n",
      "Epoch 6 Step 2,050 Best model saved @ 12/09/2017 14:51:27 [Ave valid] 0.906\n",
      "Epoch 6 Step 2,200 Best model saved @ 12/09/2017 14:51:45 [Ave valid] 0.900\n",
      "Epoch 6 Step 2,202 ends @ 12/09/2017 14:51:46 [Train] 0.467, 88.0% [Valid] 71.0% [Ave valid] 0.911\n",
      "Epoch 7 Step 2,250 Best model saved @ 12/09/2017 14:51:53 [Ave valid] 0.894\n",
      "Epoch 7 Step 2,350 Best model saved @ 12/09/2017 14:52:05 [Ave valid] 0.892\n",
      "Epoch 7 Step 2,450 Best model saved @ 12/09/2017 14:52:17 [Ave valid] 0.880\n",
      "Epoch 7 Step 2,500 Best model saved @ 12/09/2017 14:52:23 [Ave valid] 0.871\n",
      "Epoch 7 Step 2,550 Best model saved @ 12/09/2017 14:52:30 [Ave valid] 0.868\n",
      "Epoch 7 Step 2,569 Best model saved @ 12/09/2017 14:52:32 [Ave valid] 0.833\n",
      "Epoch 7 Step 2,569 ends @ 12/09/2017 14:52:32 [Train] 0.203, 95.7% [Valid] 77.3% [Ave valid] 0.833\n",
      "Epoch 8 Step 2,600 Best model saved @ 12/09/2017 14:52:37 [Ave valid] 0.828\n",
      "Epoch 8 Step 2,650 Best model saved @ 12/09/2017 14:52:44 [Ave valid] 0.811\n",
      "Epoch 8 Step 2,700 Best model saved @ 12/09/2017 14:52:50 [Ave valid] 0.805\n",
      "Epoch 8 Step 2,750 Best model saved @ 12/09/2017 14:52:56 [Ave valid] 0.789\n",
      "Epoch 8 Step 2,850 Best model saved @ 12/09/2017 14:53:08 [Ave valid] 0.789\n",
      "Epoch 8 Step 2,900 Best model saved @ 12/09/2017 14:53:14 [Ave valid] 0.784\n",
      "Epoch 8 Step 2,936 Best model saved @ 12/09/2017 14:53:19 [Ave valid] 0.781\n",
      "Epoch 8 Step 2,936 ends @ 12/09/2017 14:53:19 [Train] 0.139, 95.7% [Valid] 78.1% [Ave valid] 0.781\n",
      "Epoch 9 Step 2,950 Best model saved @ 12/09/2017 14:53:22 [Ave valid] 0.773\n",
      "Epoch 9 Step 3,303 ends @ 12/09/2017 14:54:06 [Train] 0.280, 90.6% [Valid] 79.1% [Ave valid] 0.785\n",
      "Epoch 10 Step 3,400 Best model saved @ 12/09/2017 14:54:19 [Ave valid] 0.766\n",
      "Epoch 10 Step 3,450 Best model saved @ 12/09/2017 14:54:25 [Ave valid] 0.754\n",
      "Epoch 10 Step 3,500 Best model saved @ 12/09/2017 14:54:31 [Ave valid] 0.750\n",
      "Epoch 10 Step 3,550 Best model saved @ 12/09/2017 14:54:37 [Ave valid] 0.744\n",
      "Epoch 10 Step 3,600 Best model saved @ 12/09/2017 14:54:43 [Ave valid] 0.742\n",
      "Epoch 10 Step 3,650 Best model saved @ 12/09/2017 14:54:49 [Ave valid] 0.741\n",
      "Epoch 10 Step 3,670 Best model saved @ 12/09/2017 14:54:52 [Ave valid] 0.739\n",
      "Epoch 10 Step 3,670 ends @ 12/09/2017 14:54:52 [Train] 0.303, 88.0% [Valid] 79.4% [Ave valid] 0.739\n",
      "Epoch 11 Step 3,700 Best model saved @ 12/09/2017 14:54:57 [Ave valid] 0.735\n",
      "Epoch 11 Step 3,750 Best model saved @ 12/09/2017 14:55:03 [Ave valid] 0.732\n",
      "Epoch 11 Step 4,037 ends @ 12/09/2017 14:55:39 [Train] 0.222, 96.6% [Valid] 78.4% [Ave valid] 0.760\n",
      "Epoch 12 Step 4,404 ends @ 12/09/2017 14:56:25 [Train] 0.227, 93.2% [Valid] 77.6% [Ave valid] 0.748\n",
      "Epoch 13 Step 4,771 ends @ 12/09/2017 14:57:12 [Train] 0.147, 96.6% [Valid] 80.4% [Ave valid] 0.742\n",
      "Epoch 14 Step 4,800 Best model saved @ 12/09/2017 14:57:16 [Ave valid] 0.724\n",
      "Epoch 14 Step 5,138 ends @ 12/09/2017 14:57:58 [Train] 0.125, 96.6% [Valid] 79.6% [Ave valid] 0.768\n",
      "Epoch 15 Step 5,505 ends @ 12/09/2017 14:58:44 [Train] 0.089, 98.3% [Valid] 81.3% [Ave valid] 0.781\n",
      "Epoch 16 Step 5,872 ends @ 12/09/2017 14:59:31 [Train] 0.138, 95.7% [Valid] 80.6% [Ave valid] 0.780\n",
      "Epoch 17 Step 6,239 ends @ 12/09/2017 15:00:17 [Train] 0.180, 94.9% [Valid] 80.8% [Ave valid] 0.772\n",
      "Epoch 18 Step 6,606 ends @ 12/09/2017 15:01:04 [Train] 0.059, 99.1% [Valid] 78.8% [Ave valid] 0.813\n",
      "Epoch 19 Step 6,973 ends @ 12/09/2017 15:01:50 [Train] 0.068, 99.1% [Valid] 82.1% [Ave valid] 0.804\n",
      "Epoch 20 Step 7,340 ends @ 12/09/2017 15:02:36 [Train] 0.092, 96.6% [Valid] 81.0% [Ave valid] 0.832\n",
      "Epoch 21 Step 7,707 ends @ 12/09/2017 15:03:23 [Train] 3.399, 5.1% [Valid] 3.6% [Ave valid] 2.771\n",
      "Epoch 22 Step 8,074 ends @ 12/09/2017 15:04:09 [Train] 3.383, 3.4% [Valid] 3.6% [Ave valid] 3.408\n",
      "Epoch 23 Step 8,441 ends @ 12/09/2017 15:04:56 [Train] 3.386, 5.1% [Valid] 3.3% [Ave valid] 3.403\n"
     ]
    },
    {
     "name": "stdout",
     "output_type": "stream",
     "text": [
      "Epoch 24 Step 8,808 ends @ 12/09/2017 15:05:42 [Train] 3.417, 3.4% [Valid] 3.2% [Ave valid] 3.401\n",
      "Epoch 25 Step 9,175 ends @ 12/09/2017 15:06:29 [Train] 3.396, 2.6% [Valid] 3.2% [Ave valid] 3.400\n"
     ]
    },
    {
     "ename": "KeyboardInterrupt",
     "evalue": "",
     "output_type": "error",
     "traceback": [
      "\u001b[0;31m---------------------------------------------------------------------------\u001b[0m",
      "\u001b[0;31mKeyboardInterrupt\u001b[0m                         Traceback (most recent call last)",
      "\u001b[0;32m<ipython-input-14-d13c7f3a1677>\u001b[0m in \u001b[0;36m<module>\u001b[0;34m()\u001b[0m\n\u001b[1;32m      4\u001b[0m \u001b[0mGraphClass\u001b[0m \u001b[0;34m=\u001b[0m \u001b[0mglobals\u001b[0m\u001b[0;34m(\u001b[0m\u001b[0;34m)\u001b[0m\u001b[0;34m[\u001b[0m\u001b[0mgraph_name\u001b[0m\u001b[0;34m]\u001b[0m\u001b[0;34m\u001b[0m\u001b[0m\n\u001b[1;32m      5\u001b[0m \u001b[0mgraph\u001b[0m \u001b[0;34m=\u001b[0m \u001b[0mGraphClass\u001b[0m\u001b[0;34m(\u001b[0m\u001b[0mg_cnfg\u001b[0m\u001b[0;34m)\u001b[0m\u001b[0;34m\u001b[0m\u001b[0m\n\u001b[0;32m----> 6\u001b[0;31m \u001b[0mgraph\u001b[0m\u001b[0;34m.\u001b[0m\u001b[0mtrain_model\u001b[0m\u001b[0;34m(\u001b[0m\u001b[0mt_cnfg\u001b[0m\u001b[0;34m,\u001b[0m \u001b[0mXY_train_valid\u001b[0m\u001b[0;34m)\u001b[0m\u001b[0;34m\u001b[0m\u001b[0m\n\u001b[0m",
      "\u001b[0;32m~/ML/speech-recognition/kaggle_speech_recog/graphs/useful_tf_graph.py\u001b[0m in \u001b[0;36mtrain_model\u001b[0;34m(self, cnfg, XY_train_valid, annotate)\u001b[0m\n\u001b[1;32m     60\u001b[0m                                            feed_dict={self.X: X_batch, self.Y: Y_batch, \n\u001b[1;32m     61\u001b[0m                                                       \u001b[0mself\u001b[0m\u001b[0;34m.\u001b[0m\u001b[0mkeep_prob\u001b[0m\u001b[0;34m:\u001b[0m \u001b[0mcnfg\u001b[0m\u001b[0;34m.\u001b[0m\u001b[0mdropout_keep_prob\u001b[0m\u001b[0;34m,\u001b[0m\u001b[0;34m\u001b[0m\u001b[0m\n\u001b[0;32m---> 62\u001b[0;31m                                                       self.is_training: True})\n\u001b[0m\u001b[1;32m     63\u001b[0m \u001b[0;34m\u001b[0m\u001b[0m\n\u001b[1;32m     64\u001b[0m                 \u001b[0;32mif\u001b[0m \u001b[0;34m(\u001b[0m\u001b[0mstep\u001b[0m \u001b[0;34m==\u001b[0m \u001b[0;36m1\u001b[0m\u001b[0;34m)\u001b[0m \u001b[0;32mor\u001b[0m \u001b[0;34m(\u001b[0m\u001b[0mself\u001b[0m\u001b[0;34m.\u001b[0m\u001b[0moffset\u001b[0m \u001b[0;34m==\u001b[0m \u001b[0;36m0\u001b[0m\u001b[0;34m)\u001b[0m \u001b[0;32mor\u001b[0m \u001b[0;34m(\u001b[0m\u001b[0mstep\u001b[0m \u001b[0;34m%\u001b[0m \u001b[0mcnfg\u001b[0m\u001b[0;34m.\u001b[0m\u001b[0mlog_every\u001b[0m \u001b[0;34m==\u001b[0m \u001b[0;36m0\u001b[0m\u001b[0;34m)\u001b[0m\u001b[0;34m:\u001b[0m  \u001b[0;31m# Keep track of training progress\u001b[0m\u001b[0;34m\u001b[0m\u001b[0m\n",
      "\u001b[0;32m/usr/local/anaconda3/lib/python3.5/site-packages/tensorflow/python/client/session.py\u001b[0m in \u001b[0;36mrun\u001b[0;34m(self, fetches, feed_dict, options, run_metadata)\u001b[0m\n\u001b[1;32m    887\u001b[0m     \u001b[0;32mtry\u001b[0m\u001b[0;34m:\u001b[0m\u001b[0;34m\u001b[0m\u001b[0m\n\u001b[1;32m    888\u001b[0m       result = self._run(None, fetches, feed_dict, options_ptr,\n\u001b[0;32m--> 889\u001b[0;31m                          run_metadata_ptr)\n\u001b[0m\u001b[1;32m    890\u001b[0m       \u001b[0;32mif\u001b[0m \u001b[0mrun_metadata\u001b[0m\u001b[0;34m:\u001b[0m\u001b[0;34m\u001b[0m\u001b[0m\n\u001b[1;32m    891\u001b[0m         \u001b[0mproto_data\u001b[0m \u001b[0;34m=\u001b[0m \u001b[0mtf_session\u001b[0m\u001b[0;34m.\u001b[0m\u001b[0mTF_GetBuffer\u001b[0m\u001b[0;34m(\u001b[0m\u001b[0mrun_metadata_ptr\u001b[0m\u001b[0;34m)\u001b[0m\u001b[0;34m\u001b[0m\u001b[0m\n",
      "\u001b[0;32m/usr/local/anaconda3/lib/python3.5/site-packages/tensorflow/python/client/session.py\u001b[0m in \u001b[0;36m_run\u001b[0;34m(self, handle, fetches, feed_dict, options, run_metadata)\u001b[0m\n\u001b[1;32m   1118\u001b[0m     \u001b[0;32mif\u001b[0m \u001b[0mfinal_fetches\u001b[0m \u001b[0;32mor\u001b[0m \u001b[0mfinal_targets\u001b[0m \u001b[0;32mor\u001b[0m \u001b[0;34m(\u001b[0m\u001b[0mhandle\u001b[0m \u001b[0;32mand\u001b[0m \u001b[0mfeed_dict_tensor\u001b[0m\u001b[0;34m)\u001b[0m\u001b[0;34m:\u001b[0m\u001b[0;34m\u001b[0m\u001b[0m\n\u001b[1;32m   1119\u001b[0m       results = self._do_run(handle, final_targets, final_fetches,\n\u001b[0;32m-> 1120\u001b[0;31m                              feed_dict_tensor, options, run_metadata)\n\u001b[0m\u001b[1;32m   1121\u001b[0m     \u001b[0;32melse\u001b[0m\u001b[0;34m:\u001b[0m\u001b[0;34m\u001b[0m\u001b[0m\n\u001b[1;32m   1122\u001b[0m       \u001b[0mresults\u001b[0m \u001b[0;34m=\u001b[0m \u001b[0;34m[\u001b[0m\u001b[0;34m]\u001b[0m\u001b[0;34m\u001b[0m\u001b[0m\n",
      "\u001b[0;32m/usr/local/anaconda3/lib/python3.5/site-packages/tensorflow/python/client/session.py\u001b[0m in \u001b[0;36m_do_run\u001b[0;34m(self, handle, target_list, fetch_list, feed_dict, options, run_metadata)\u001b[0m\n\u001b[1;32m   1315\u001b[0m     \u001b[0;32mif\u001b[0m \u001b[0mhandle\u001b[0m \u001b[0;32mis\u001b[0m \u001b[0;32mNone\u001b[0m\u001b[0;34m:\u001b[0m\u001b[0;34m\u001b[0m\u001b[0m\n\u001b[1;32m   1316\u001b[0m       return self._do_call(_run_fn, self._session, feeds, fetches, targets,\n\u001b[0;32m-> 1317\u001b[0;31m                            options, run_metadata)\n\u001b[0m\u001b[1;32m   1318\u001b[0m     \u001b[0;32melse\u001b[0m\u001b[0;34m:\u001b[0m\u001b[0;34m\u001b[0m\u001b[0m\n\u001b[1;32m   1319\u001b[0m       \u001b[0;32mreturn\u001b[0m \u001b[0mself\u001b[0m\u001b[0;34m.\u001b[0m\u001b[0m_do_call\u001b[0m\u001b[0;34m(\u001b[0m\u001b[0m_prun_fn\u001b[0m\u001b[0;34m,\u001b[0m \u001b[0mself\u001b[0m\u001b[0;34m.\u001b[0m\u001b[0m_session\u001b[0m\u001b[0;34m,\u001b[0m \u001b[0mhandle\u001b[0m\u001b[0;34m,\u001b[0m \u001b[0mfeeds\u001b[0m\u001b[0;34m,\u001b[0m \u001b[0mfetches\u001b[0m\u001b[0;34m)\u001b[0m\u001b[0;34m\u001b[0m\u001b[0m\n",
      "\u001b[0;32m/usr/local/anaconda3/lib/python3.5/site-packages/tensorflow/python/client/session.py\u001b[0m in \u001b[0;36m_do_call\u001b[0;34m(self, fn, *args)\u001b[0m\n\u001b[1;32m   1321\u001b[0m   \u001b[0;32mdef\u001b[0m \u001b[0m_do_call\u001b[0m\u001b[0;34m(\u001b[0m\u001b[0mself\u001b[0m\u001b[0;34m,\u001b[0m \u001b[0mfn\u001b[0m\u001b[0;34m,\u001b[0m \u001b[0;34m*\u001b[0m\u001b[0margs\u001b[0m\u001b[0;34m)\u001b[0m\u001b[0;34m:\u001b[0m\u001b[0;34m\u001b[0m\u001b[0m\n\u001b[1;32m   1322\u001b[0m     \u001b[0;32mtry\u001b[0m\u001b[0;34m:\u001b[0m\u001b[0;34m\u001b[0m\u001b[0m\n\u001b[0;32m-> 1323\u001b[0;31m       \u001b[0;32mreturn\u001b[0m \u001b[0mfn\u001b[0m\u001b[0;34m(\u001b[0m\u001b[0;34m*\u001b[0m\u001b[0margs\u001b[0m\u001b[0;34m)\u001b[0m\u001b[0;34m\u001b[0m\u001b[0m\n\u001b[0m\u001b[1;32m   1324\u001b[0m     \u001b[0;32mexcept\u001b[0m \u001b[0merrors\u001b[0m\u001b[0;34m.\u001b[0m\u001b[0mOpError\u001b[0m \u001b[0;32mas\u001b[0m \u001b[0me\u001b[0m\u001b[0;34m:\u001b[0m\u001b[0;34m\u001b[0m\u001b[0m\n\u001b[1;32m   1325\u001b[0m       \u001b[0mmessage\u001b[0m \u001b[0;34m=\u001b[0m \u001b[0mcompat\u001b[0m\u001b[0;34m.\u001b[0m\u001b[0mas_text\u001b[0m\u001b[0;34m(\u001b[0m\u001b[0me\u001b[0m\u001b[0;34m.\u001b[0m\u001b[0mmessage\u001b[0m\u001b[0;34m)\u001b[0m\u001b[0;34m\u001b[0m\u001b[0m\n",
      "\u001b[0;32m/usr/local/anaconda3/lib/python3.5/site-packages/tensorflow/python/client/session.py\u001b[0m in \u001b[0;36m_run_fn\u001b[0;34m(session, feed_dict, fetch_list, target_list, options, run_metadata)\u001b[0m\n\u001b[1;32m   1300\u001b[0m           return tf_session.TF_Run(session, options,\n\u001b[1;32m   1301\u001b[0m                                    \u001b[0mfeed_dict\u001b[0m\u001b[0;34m,\u001b[0m \u001b[0mfetch_list\u001b[0m\u001b[0;34m,\u001b[0m \u001b[0mtarget_list\u001b[0m\u001b[0;34m,\u001b[0m\u001b[0;34m\u001b[0m\u001b[0m\n\u001b[0;32m-> 1302\u001b[0;31m                                    status, run_metadata)\n\u001b[0m\u001b[1;32m   1303\u001b[0m \u001b[0;34m\u001b[0m\u001b[0m\n\u001b[1;32m   1304\u001b[0m     \u001b[0;32mdef\u001b[0m \u001b[0m_prun_fn\u001b[0m\u001b[0;34m(\u001b[0m\u001b[0msession\u001b[0m\u001b[0;34m,\u001b[0m \u001b[0mhandle\u001b[0m\u001b[0;34m,\u001b[0m \u001b[0mfeed_dict\u001b[0m\u001b[0;34m,\u001b[0m \u001b[0mfetch_list\u001b[0m\u001b[0;34m)\u001b[0m\u001b[0;34m:\u001b[0m\u001b[0;34m\u001b[0m\u001b[0m\n",
      "\u001b[0;31mKeyboardInterrupt\u001b[0m: "
     ]
    }
   ],
   "source": [
    "print(g_cnfg)\n",
    "print(t_cnfg)\n",
    "\n",
    "GraphClass = globals()[graph_name]\n",
    "graph = GraphClass(g_cnfg)\n",
    "graph.train_model(t_cnfg, XY_train_valid)"
   ]
  },
  {
   "cell_type": "code",
   "execution_count": null,
   "metadata": {},
   "outputs": [],
   "source": []
  }
 ],
 "metadata": {
  "kernelspec": {
   "display_name": "Python 3",
   "language": "python",
   "name": "python3"
  },
  "language_info": {
   "codemirror_mode": {
    "name": "ipython",
    "version": 3
   },
   "file_extension": ".py",
   "mimetype": "text/x-python",
   "name": "python",
   "nbconvert_exporter": "python",
   "pygments_lexer": "ipython3",
   "version": "3.5.4"
  }
 },
 "nbformat": 4,
 "nbformat_minor": 2
}
