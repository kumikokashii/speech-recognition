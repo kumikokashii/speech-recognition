{
 "cells": [
  {
   "cell_type": "code",
   "execution_count": 1,
   "metadata": {},
   "outputs": [],
   "source": [
    "%load_ext autoreload\n",
    "%autoreload 2\n",
    "\n",
    "from kaggle_speech_recog import *"
   ]
  },
  {
   "cell_type": "markdown",
   "metadata": {},
   "source": [
    "# Get feature and label matrices"
   ]
  },
  {
   "cell_type": "code",
   "execution_count": 2,
   "metadata": {},
   "outputs": [
    {
     "name": "stdout",
     "output_type": "stream",
     "text": [
      "SKIPPED train/audio/_background_noise_/README.md File format b'# Ba'... not understood.\n"
     ]
    },
    {
     "name": "stderr",
     "output_type": "stream",
     "text": [
      "/usr/local/anaconda3/lib/python3.5/site-packages/scipy/io/wavfile.py:273: WavFileWarning: Chunk (non-data) not understood, skipping it.\n",
      "  WavFileWarning)\n"
     ]
    }
   ],
   "source": [
    "X_vector_len = 16000\n",
    "train = SpeechList.get_train('train/audio')\n",
    "XY_train_valid = train.get_X_and_Y_matrices(X_vector_len=X_vector_len, split=0.85)"
   ]
  },
  {
   "cell_type": "markdown",
   "metadata": {},
   "source": [
    "# Train\n",
    "* Hmm, sparse matrix doesnt work"
   ]
  },
  {
   "cell_type": "code",
   "execution_count": 3,
   "metadata": {},
   "outputs": [],
   "source": [
    "# Need this while testing graph so it gets autoloaded\n",
    "from kaggle_speech_recog.graphs.useful_tf_graph import *\n",
    "from kaggle_speech_recog.graphs.test_lstm import *"
   ]
  },
  {
   "cell_type": "code",
   "execution_count": 4,
   "metadata": {},
   "outputs": [],
   "source": [
    "graph_name = 'TestLSTM'  # Specify graph class name\n",
    "\n",
    "g_cnfg = Config('trial_graph')  # Specify graph configuration name\n",
    "g_cnfg.X_vector_len = X_vector_len\n",
    "g_cnfg.Y_vector_len = XY_train_valid[1].shape[1]\n",
    "g_cnfg.lstm_state_size = 100\n",
    "g_cnfg.n_hidden = 50\n",
    "g_cnfg.lr_initial = 0.1\n",
    "g_cnfg.lr_decay_steps = 10000\n",
    "g_cnfg.lr_decay_rate = 0.7  # 1.0 means no decay\n",
    "\n",
    "t_cnfg = Config('trial_run_01')  # Specify train configuration name\n",
    "t_cnfg.ckp_dir = 'checkpoints'\n",
    "t_cnfg.tb_dir = 'tensorboard'\n",
    "t_cnfg.log_dir = 'logs'\n",
    "t_cnfg.le = train.le\n",
    "t_cnfg.max_step = 100000000\n",
    "t_cnfg.batch_size = 150\n",
    "t_cnfg.dropout_keep_prob = 0.5\n",
    "t_cnfg.log_every = 32\n",
    "t_cnfg.print_every = 32\n",
    "t_cnfg.n_ave_ll_valid = 8\n",
    "t_cnfg.start_step_early_stopping = 100000000\n",
    "t_cnfg.early_stopping_patience =0.1"
   ]
  },
  {
   "cell_type": "code",
   "execution_count": null,
   "metadata": {},
   "outputs": [
    {
     "name": "stdout",
     "output_type": "stream",
     "text": [
      "name: trial_graph\n",
      "X_vector_len: 16,000\n",
      "Y_vector_len: 31\n",
      "lr_decay_rate: 0.7\n",
      "lr_decay_steps: 10,000\n",
      "lr_initial: 0.1\n",
      "lstm_state_size: 100\n",
      "n_hidden: 50\n",
      "\n",
      "name: trial_run_01\n",
      "batch_size: 150\n",
      "ckp_dir: checkpoints\n",
      "dropout_keep_prob: 0.5\n",
      "early_stopping_patience: 0.1\n",
      "le: LabelEncoder()\n",
      "log_dir: logs\n",
      "log_every: 32\n",
      "max_step: 100,000,000\n",
      "n_ave_ll_valid: 8\n",
      "print_every: 32\n",
      "start_step_early_stopping: 100,000,000\n",
      "tb_dir: tensorboard\n",
      "\n",
      "============================================================\n",
      "TestLSTM_trial_graph_trial_run_01\n",
      "============================================================\n",
      "Training starts @ 12/03/2017 14:34:29\n",
      "Step 0 Best model saved @ 12/03/2017 14:38:16 [Ave valid ll] 3.434\n",
      "Step 0 ends @ 12/03/2017 14:38:16 [Train] 3.433, 0.0% [Valid] 2.7% [Ave valid] 3.434\n",
      "Step 32 Best model saved @ 12/03/2017 14:48:16 [Ave valid ll] 3.431\n",
      "Step 32 ends @ 12/03/2017 14:48:16 [Train] 3.426, 0.0% [Valid] 4.0% [Ave valid] 3.431\n",
      "Step 64 Best model saved @ 12/03/2017 14:58:18 [Ave valid ll] 3.428\n",
      "Step 64 ends @ 12/03/2017 14:58:18 [Train] 3.427, 0.0% [Valid] 3.4% [Ave valid] 3.428\n"
     ]
    }
   ],
   "source": [
    "print(g_cnfg)\n",
    "print(t_cnfg)\n",
    "\n",
    "GraphClass = globals()[graph_name]\n",
    "graph = GraphClass(g_cnfg)\n",
    "graph.train_model(t_cnfg, XY_train_valid)"
   ]
  },
  {
   "cell_type": "code",
   "execution_count": null,
   "metadata": {},
   "outputs": [],
   "source": []
  }
 ],
 "metadata": {
  "kernelspec": {
   "display_name": "Python 3",
   "language": "python",
   "name": "python3"
  },
  "language_info": {
   "codemirror_mode": {
    "name": "ipython",
    "version": 3
   },
   "file_extension": ".py",
   "mimetype": "text/x-python",
   "name": "python",
   "nbconvert_exporter": "python",
   "pygments_lexer": "ipython3",
   "version": "3.5.4"
  }
 },
 "nbformat": 4,
 "nbformat_minor": 2
}
