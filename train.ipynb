{
 "cells": [
  {
   "cell_type": "code",
   "execution_count": 1,
   "metadata": {},
   "outputs": [],
   "source": [
    "%load_ext autoreload\n",
    "%autoreload 2\n",
    "\n",
    "from kaggle_speech_recog import *\n",
    "import math"
   ]
  },
  {
   "cell_type": "markdown",
   "metadata": {},
   "source": [
    "# Get feature and label matrices"
   ]
  },
  {
   "cell_type": "code",
   "execution_count": 2,
   "metadata": {},
   "outputs": [
    {
     "name": "stdout",
     "output_type": "stream",
     "text": [
      "SKIPPED train/audio/_background_noise_/README.md File format b'# Ba'... not understood.\n"
     ]
    },
    {
     "name": "stderr",
     "output_type": "stream",
     "text": [
      "/usr/local/anaconda3/lib/python3.5/site-packages/scipy/io/wavfile.py:273: WavFileWarning: Chunk (non-data) not understood, skipping it.\n",
      "  WavFileWarning)\n"
     ]
    }
   ],
   "source": [
    "X_vector_len = 16000\n",
    "train = SpeechList.get_train('train/audio')\n",
    "XY_train_valid = train.get_spectrogram_X_and_Y(X_vector_len=X_vector_len, take_log=True, split=0.85)"
   ]
  },
  {
   "cell_type": "markdown",
   "metadata": {},
   "source": [
    "# Train\n",
    "* Hmm, sparse matrix doesnt work"
   ]
  },
  {
   "cell_type": "code",
   "execution_count": 3,
   "metadata": {},
   "outputs": [],
   "source": [
    "# Need this while testing graph so it gets autoloaded\n",
    "from kaggle_speech_recog.graphs.useful_tf_graph import *\n",
    "from kaggle_speech_recog.graphs.spectrogram_2_conv import *"
   ]
  },
  {
   "cell_type": "code",
   "execution_count": 4,
   "metadata": {},
   "outputs": [],
   "source": [
    "graph_name = 'Spectrogram2Conv'  # Specify graph class name\n",
    "\n",
    "g_cnfg = Config('graph_01')  # Specify graph configuration name\n",
    "g_cnfg.X_img_h = XY_train_valid[0].shape[1]\n",
    "g_cnfg.X_img_w = XY_train_valid[0].shape[2]\n",
    "g_cnfg.Y_vector_len = XY_train_valid[1].shape[1]\n",
    "\n",
    "g_cnfg.conv1_n_filters = 16\n",
    "g_cnfg.conv1_kernel_size = 5\n",
    "g_cnfg.conv1_mp_size = 5\n",
    "g_cnfg.conv1_mp_strides = 2\n",
    "\n",
    "g_cnfg.conv2_n_filters = 32\n",
    "g_cnfg.conv2_kernel_size = 3\n",
    "g_cnfg.conv2_mp_size = 3\n",
    "g_cnfg.conv2_mp_strides = 2\n",
    "\n",
    "g_cnfg.n_hidden1 = 1800\n",
    "g_cnfg.n_hidden2 = 50\n",
    "\n",
    "g_cnfg.lr_initial = 0.1\n",
    "g_cnfg.lr_decay_steps = 1000000\n",
    "g_cnfg.lr_decay_rate = 0.7  # 1.0 means no decay\n",
    "\n",
    "g_cnfg.X_conv_h = math.ceil(math.ceil(g_cnfg.X_img_h / g_cnfg.conv1_mp_strides) / g_cnfg.conv2_mp_strides)\n",
    "g_cnfg.X_conv_w = math.ceil(math.ceil(g_cnfg.X_img_w / g_cnfg.conv1_mp_strides) / g_cnfg.conv2_mp_strides)\n",
    "g_cnfg.n_flat = g_cnfg.X_conv_h * g_cnfg.X_conv_w * g_cnfg.conv2_n_filters\n",
    "\n",
    "t_cnfg = Config('run_01')  # Specify train configuration name\n",
    "t_cnfg.ckp_dir = 'checkpoints'\n",
    "t_cnfg.tb_dir = 'tensorboard'\n",
    "t_cnfg.log_dir = 'logs'\n",
    "t_cnfg.le = train.le\n",
    "t_cnfg.max_step = 100000000\n",
    "t_cnfg.batch_size = 150\n",
    "t_cnfg.dropout_keep_prob = 0.5\n",
    "t_cnfg.log_every = 50\n",
    "t_cnfg.print_every = math.ceil(XY_train_valid[0].shape[0]/t_cnfg.batch_size)  # every epoch\n",
    "t_cnfg.n_ave_ll_valid = 8\n",
    "t_cnfg.start_step_early_stopping = 100000000\n",
    "t_cnfg.early_stopping_patience =0.1"
   ]
  },
  {
   "cell_type": "code",
   "execution_count": null,
   "metadata": {
    "scrolled": true
   },
   "outputs": [
    {
     "name": "stdout",
     "output_type": "stream",
     "text": [
      "name: graph_01\n",
      "X_conv_h: 33\n",
      "X_conv_w: 18\n",
      "X_img_h: 129\n",
      "X_img_w: 71\n",
      "Y_vector_len: 31\n",
      "conv1_kernel_size: 5\n",
      "conv1_mp_size: 5\n",
      "conv1_mp_strides: 2\n",
      "conv1_n_filters: 16\n",
      "conv2_kernel_size: 3\n",
      "conv2_mp_size: 3\n",
      "conv2_mp_strides: 2\n",
      "conv2_n_filters: 32\n",
      "lr_decay_rate: 0.7\n",
      "lr_decay_steps: 1,000,000\n",
      "lr_initial: 0.1\n",
      "n_flat: 19,008\n",
      "n_hidden1: 1,800\n",
      "n_hidden2: 50\n",
      "\n",
      "name: run_01\n",
      "batch_size: 150\n",
      "ckp_dir: checkpoints\n",
      "dropout_keep_prob: 0.5\n",
      "early_stopping_patience: 0.1\n",
      "le: LabelEncoder()\n",
      "log_dir: logs\n",
      "log_every: 50\n",
      "max_step: 100,000,000\n",
      "n_ave_ll_valid: 8\n",
      "print_every: 367\n",
      "start_step_early_stopping: 100,000,000\n",
      "tb_dir: tensorboard\n",
      "\n",
      "============================================================\n",
      "Spectrogram2Conv_graph_01_run_01\n",
      "============================================================\n",
      "Training starts @ 12/10/2017 00:19:43\n",
      "Epoch 1 Step 1 Best model saved @ 12/10/2017 00:19:48 [Ave valid] 3.440\n",
      "Epoch 1 Step 1 ends @ 12/10/2017 00:19:48 [Train] 3.422, 5.3% [Valid] 3.4% [Ave valid] 3.440\n",
      "Epoch 1 Step 50 Best model saved @ 12/10/2017 00:21:23 [Ave valid] 3.401\n",
      "Epoch 1 Step 100 Best model saved @ 12/10/2017 00:23:00 [Ave valid] 3.343\n",
      "Epoch 1 Step 150 Best model saved @ 12/10/2017 00:24:37 [Ave valid] 3.297\n",
      "Epoch 1 Step 200 Best model saved @ 12/10/2017 00:26:13 [Ave valid] 3.248\n",
      "Epoch 1 Step 250 Best model saved @ 12/10/2017 00:27:50 [Ave valid] 3.165\n",
      "Epoch 1 Step 300 Best model saved @ 12/10/2017 00:29:27 [Ave valid] 3.090\n",
      "Epoch 1 Step 350 Best model saved @ 12/10/2017 00:31:03 [Ave valid] 2.994\n",
      "Epoch 1 Step 367 Best model saved @ 12/10/2017 00:31:37 [Ave valid] 2.850\n",
      "Epoch 1 Step 367 ends @ 12/10/2017 00:31:37 [Train] 2.068, 38.5% [Valid] 31.2% [Ave valid] 2.850\n",
      "Epoch 2 Step 400 Best model saved @ 12/10/2017 00:32:43 [Ave valid] 2.707\n",
      "Epoch 2 Step 450 Best model saved @ 12/10/2017 00:34:19 [Ave valid] 2.573\n",
      "Epoch 2 Step 500 Best model saved @ 12/10/2017 00:35:56 [Ave valid] 2.430\n",
      "Epoch 2 Step 550 Best model saved @ 12/10/2017 00:37:33 [Ave valid] 2.307\n",
      "Epoch 2 Step 600 Best model saved @ 12/10/2017 00:39:10 [Ave valid] 2.234\n",
      "Epoch 2 Step 650 Best model saved @ 12/10/2017 00:40:47 [Ave valid] 2.149\n",
      "Epoch 2 Step 700 Best model saved @ 12/10/2017 00:42:24 [Ave valid] 2.093\n",
      "Epoch 2 Step 734 Best model saved @ 12/10/2017 00:43:30 [Ave valid] 2.032\n",
      "Epoch 2 Step 734 ends @ 12/10/2017 00:43:30 [Train] 1.716, 41.9% [Valid] 44.3% [Ave valid] 2.032\n",
      "Epoch 3 Step 850 Best model saved @ 12/10/2017 00:47:17 [Ave valid] 2.022\n",
      "Epoch 3 Step 900 Best model saved @ 12/10/2017 00:48:54 [Ave valid] 2.005\n",
      "Epoch 3 Step 950 Best model saved @ 12/10/2017 00:50:31 [Ave valid] 1.996\n",
      "Epoch 3 Step 1,000 Best model saved @ 12/10/2017 00:52:08 [Ave valid] 1.928\n",
      "Epoch 3 Step 1,050 Best model saved @ 12/10/2017 00:53:45 [Ave valid] 1.859\n",
      "Epoch 3 Step 1,100 Best model saved @ 12/10/2017 00:55:22 [Ave valid] 1.813\n",
      "Epoch 3 Step 1,101 Best model saved @ 12/10/2017 00:55:25 [Ave valid] 1.687\n",
      "Epoch 3 Step 1,101 ends @ 12/10/2017 00:55:25 [Train] 1.004, 70.1% [Valid] 61.2% [Ave valid] 1.687\n",
      "Epoch 4 Step 1,150 Best model saved @ 12/10/2017 00:57:01 [Ave valid] 1.592\n",
      "Epoch 4 Step 1,400 Best model saved @ 12/10/2017 01:05:05 [Ave valid] 1.573\n",
      "Epoch 4 Step 1,450 Best model saved @ 12/10/2017 01:06:41 [Ave valid] 1.556\n",
      "Epoch 4 Step 1,468 Best model saved @ 12/10/2017 01:07:17 [Ave valid] 1.529\n",
      "Epoch 4 Step 1,468 ends @ 12/10/2017 01:07:17 [Train] 0.970, 70.9% [Valid] 69.3% [Ave valid] 1.529\n",
      "Epoch 5 Step 1,550 Best model saved @ 12/10/2017 01:09:57 [Ave valid] 1.346\n",
      "Epoch 5 Step 1,600 Best model saved @ 12/10/2017 01:11:34 [Ave valid] 1.301\n",
      "Epoch 5 Step 1,650 Best model saved @ 12/10/2017 01:13:11 [Ave valid] 1.281\n",
      "Epoch 5 Step 1,700 Best model saved @ 12/10/2017 01:14:48 [Ave valid] 1.260\n",
      "Epoch 5 Step 1,800 Best model saved @ 12/10/2017 01:18:02 [Ave valid] 1.250\n",
      "Epoch 5 Step 1,835 Best model saved @ 12/10/2017 01:19:10 [Ave valid] 1.232\n",
      "Epoch 5 Step 1,835 ends @ 12/10/2017 01:19:10 [Train] 0.548, 81.2% [Valid] 72.7% [Ave valid] 1.232\n",
      "Epoch 6 Step 1,850 Best model saved @ 12/10/2017 01:19:41 [Ave valid] 1.196\n",
      "INFO:tensorflow:checkpoints/Spectrogram2Conv_graph_01_run_01/hourly/model-1900 is not in all_model_checkpoint_paths. Manually adding it.\n",
      "Epoch 6 Step 1,900 Hourly model saved @ 12/10/2017 01:21:18\n",
      "Epoch 6 Step 2,000 Best model saved @ 12/10/2017 01:24:31 [Ave valid] 1.186\n",
      "Epoch 6 Step 2,050 Best model saved @ 12/10/2017 01:26:08 [Ave valid] 1.164\n",
      "Epoch 6 Step 2,100 Best model saved @ 12/10/2017 01:27:45 [Ave valid] 1.095\n",
      "Epoch 6 Step 2,202 Best model saved @ 12/10/2017 01:31:04 [Ave valid] 1.034\n",
      "Epoch 6 Step 2,202 ends @ 12/10/2017 01:31:04 [Train] 0.724, 76.1% [Valid] 76.8% [Ave valid] 1.034\n",
      "Epoch 7 Step 2,250 Best model saved @ 12/10/2017 01:32:38 [Ave valid] 1.023\n",
      "Epoch 7 Step 2,400 Best model saved @ 12/10/2017 01:37:28 [Ave valid] 1.019\n",
      "Epoch 7 Step 2,569 ends @ 12/10/2017 01:42:56 [Train] 0.486, 84.6% [Valid] 81.3% [Ave valid] 1.094\n",
      "Epoch 8 Step 2,600 Best model saved @ 12/10/2017 01:43:58 [Ave valid] 1.016\n",
      "Epoch 8 Step 2,936 ends @ 12/10/2017 01:54:48 [Train] 0.395, 86.3% [Valid] 79.4% [Ave valid] 1.089\n",
      "Epoch 9 Step 3,000 Best model saved @ 12/10/2017 01:56:53 [Ave valid] 0.903\n",
      "Epoch 9 Step 3,050 Best model saved @ 12/10/2017 01:58:30 [Ave valid] 0.841\n",
      "Epoch 9 Step 3,100 Best model saved @ 12/10/2017 02:00:07 [Ave valid] 0.672\n",
      "Epoch 9 Step 3,150 Best model saved @ 12/10/2017 02:01:44 [Ave valid] 0.654\n",
      "Epoch 9 Step 3,200 Best model saved @ 12/10/2017 02:03:21 [Ave valid] 0.618\n",
      "Epoch 9 Step 3,250 Best model saved @ 12/10/2017 02:04:58 [Ave valid] 0.601\n",
      "Epoch 9 Step 3,303 ends @ 12/10/2017 02:06:42 [Train] 0.352, 89.7% [Valid] 82.1% [Ave valid] 0.624\n",
      "Epoch 10 Step 3,500 Best model saved @ 12/10/2017 02:13:04 [Ave valid] 0.598\n",
      "Epoch 10 Step 3,670 ends @ 12/10/2017 02:18:34 [Train] 0.429, 84.6% [Valid] 82.9% [Ave valid] 0.649\n"
     ]
    }
   ],
   "source": [
    "print(g_cnfg)\n",
    "print(t_cnfg)\n",
    "\n",
    "GraphClass = globals()[graph_name]\n",
    "graph = GraphClass(g_cnfg)\n",
    "graph.train_model(t_cnfg, XY_train_valid)"
   ]
  },
  {
   "cell_type": "code",
   "execution_count": null,
   "metadata": {},
   "outputs": [],
   "source": []
  }
 ],
 "metadata": {
  "kernelspec": {
   "display_name": "Python 3",
   "language": "python",
   "name": "python3"
  },
  "language_info": {
   "codemirror_mode": {
    "name": "ipython",
    "version": 3
   },
   "file_extension": ".py",
   "mimetype": "text/x-python",
   "name": "python",
   "nbconvert_exporter": "python",
   "pygments_lexer": "ipython3",
   "version": "3.5.4"
  }
 },
 "nbformat": 4,
 "nbformat_minor": 2
}
