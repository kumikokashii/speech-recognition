{
 "cells": [
  {
   "cell_type": "code",
   "execution_count": 1,
   "metadata": {},
   "outputs": [
    {
     "data": {
      "text/html": [
       "\n",
       "<!DOCTYPE html>\n",
       "<html lang=\"en\">\n",
       "    <head>\n",
       "        <meta charset=\"utf-8\">\n",
       "        <title>Bokeh Plot</title>\n",
       "        \n",
       "<link rel=\"stylesheet\" href=\"https://cdn.pydata.org/bokeh/release/bokeh-0.12.10.min.css\" type=\"text/css\" />\n",
       "        \n",
       "<script type=\"text/javascript\" src=\"https://cdn.pydata.org/bokeh/release/bokeh-0.12.10.min.js\"></script>\n",
       "<script type=\"text/javascript\">\n",
       "    Bokeh.set_log_level(\"info\");\n",
       "</script>\n",
       "        <style>\n",
       "          html {\n",
       "            width: 100%;\n",
       "            height: 100%;\n",
       "          }\n",
       "          body {\n",
       "            width: 90%;\n",
       "            height: 100%;\n",
       "            margin: auto;\n",
       "          }\n",
       "        </style>\n",
       "    </head>\n",
       "    <body>\n",
       "        \n",
       "        <div class=\"bk-root\">\n",
       "            <div class=\"bk-plotdiv\" id=\"6eaf0062-8af0-4686-8d9c-d2dd9793498c\"></div>\n",
       "        </div>\n",
       "        \n",
       "        <script type=\"text/javascript\">\n",
       "            (function() {\n",
       "          var fn = function() {\n",
       "            Bokeh.safely(function() {\n",
       "              (function(root) {\n",
       "                function embed_document(root) {\n",
       "                  var docs_json = {\"cef8bd57-e06d-43d4-8289-f355f2ac1487\":{\"roots\":{\"references\":[{\"attributes\":{\"callback\":null},\"id\":\"92fc678f-874a-4855-b564-a42db5f4f617\",\"type\":\"DataRange1d\"},{\"attributes\":{},\"id\":\"6f12fdac-2cbd-426f-89a2-1d46ac2f2642\",\"type\":\"BasicTickFormatter\"},{\"attributes\":{\"active_drag\":\"auto\",\"active_inspect\":\"auto\",\"active_scroll\":\"auto\",\"active_tap\":\"auto\",\"tools\":[{\"id\":\"a999afac-6e99-4e7c-8320-4dc3d505caad\",\"type\":\"PanTool\"},{\"id\":\"4ab8883f-c6b0-402a-a6d0-3fa7b92f2124\",\"type\":\"WheelZoomTool\"},{\"id\":\"264650f1-d025-4571-bfa8-2153d379152c\",\"type\":\"BoxZoomTool\"},{\"id\":\"10e53aba-71bf-4d0b-80de-95cdf526482f\",\"type\":\"SaveTool\"},{\"id\":\"ad2f865d-19d5-4b03-936d-bdf70e45b538\",\"type\":\"ResetTool\"},{\"id\":\"bc6bda61-5564-4f0e-89d7-c76732c8c226\",\"type\":\"HelpTool\"}]},\"id\":\"e7359db7-5688-4741-9838-8958e5796ab3\",\"type\":\"Toolbar\"},{\"attributes\":{\"label\":{\"value\":\"Temp.\"},\"renderers\":[{\"id\":\"751c8381-28b0-4cc2-81f9-4ce4ffee92d0\",\"type\":\"GlyphRenderer\"}]},\"id\":\"faab3f5d-1b9c-41b6-9789-6f84bffdbc79\",\"type\":\"LegendItem\"},{\"attributes\":{\"overlay\":{\"id\":\"dea18313-3018-4006-a39d-2ec0eaa5ae36\",\"type\":\"BoxAnnotation\"}},\"id\":\"264650f1-d025-4571-bfa8-2153d379152c\",\"type\":\"BoxZoomTool\"},{\"attributes\":{},\"id\":\"ad2f865d-19d5-4b03-936d-bdf70e45b538\",\"type\":\"ResetTool\"},{\"attributes\":{\"plot\":{\"id\":\"79a96c72-4e82-4389-a685-49cc875506e8\",\"subtype\":\"Figure\",\"type\":\"Plot\"},\"ticker\":{\"id\":\"10e1474f-dab1-4c14-b162-dc79e9dc386b\",\"type\":\"BasicTicker\"}},\"id\":\"1b6cef2f-ba24-4dcf-8eca-ad4669a335d5\",\"type\":\"Grid\"},{\"attributes\":{\"callback\":null},\"id\":\"2cb23331-096c-4178-affa-ade10ca737fe\",\"type\":\"DataRange1d\"},{\"attributes\":{\"axis_label\":\"y\",\"formatter\":{\"id\":\"b82fd479-1be7-497f-8157-7d46c56d3a53\",\"type\":\"BasicTickFormatter\"},\"plot\":{\"id\":\"79a96c72-4e82-4389-a685-49cc875506e8\",\"subtype\":\"Figure\",\"type\":\"Plot\"},\"ticker\":{\"id\":\"00120a48-b5f1-4085-bc2b-9b5439a21e67\",\"type\":\"BasicTicker\"}},\"id\":\"36984c57-dad8-40e6-8733-942852c8dd88\",\"type\":\"LinearAxis\"},{\"attributes\":{\"bottom_units\":\"screen\",\"fill_alpha\":{\"value\":0.5},\"fill_color\":{\"value\":\"lightgrey\"},\"left_units\":\"screen\",\"level\":\"overlay\",\"line_alpha\":{\"value\":1.0},\"line_color\":{\"value\":\"black\"},\"line_dash\":[4,4],\"line_width\":{\"value\":2},\"plot\":null,\"render_mode\":\"css\",\"right_units\":\"screen\",\"top_units\":\"screen\"},\"id\":\"dea18313-3018-4006-a39d-2ec0eaa5ae36\",\"type\":\"BoxAnnotation\"},{\"attributes\":{},\"id\":\"8b5bbc8e-87d1-489b-bc45-269da7e31735\",\"type\":\"LinearScale\"},{\"attributes\":{},\"id\":\"415e4c2e-ef17-4308-8000-29c7ee6068db\",\"type\":\"LinearScale\"},{\"attributes\":{},\"id\":\"00120a48-b5f1-4085-bc2b-9b5439a21e67\",\"type\":\"BasicTicker\"},{\"attributes\":{\"axis_label\":\"x\",\"formatter\":{\"id\":\"6f12fdac-2cbd-426f-89a2-1d46ac2f2642\",\"type\":\"BasicTickFormatter\"},\"plot\":{\"id\":\"79a96c72-4e82-4389-a685-49cc875506e8\",\"subtype\":\"Figure\",\"type\":\"Plot\"},\"ticker\":{\"id\":\"10e1474f-dab1-4c14-b162-dc79e9dc386b\",\"type\":\"BasicTicker\"}},\"id\":\"7f8a6119-95f3-4757-ae27-fe8d925bac03\",\"type\":\"LinearAxis\"},{\"attributes\":{\"items\":[{\"id\":\"faab3f5d-1b9c-41b6-9789-6f84bffdbc79\",\"type\":\"LegendItem\"}],\"plot\":{\"id\":\"79a96c72-4e82-4389-a685-49cc875506e8\",\"subtype\":\"Figure\",\"type\":\"Plot\"}},\"id\":\"6f819e26-9812-40e0-94aa-2f432a8e7e61\",\"type\":\"Legend\"},{\"attributes\":{\"source\":{\"id\":\"b4c9f03b-8555-41dc-891a-c813018b0aae\",\"type\":\"ColumnDataSource\"}},\"id\":\"31bfd182-b736-4093-9bb9-17f0ed9a5659\",\"type\":\"CDSView\"},{\"attributes\":{\"data_source\":{\"id\":\"b4c9f03b-8555-41dc-891a-c813018b0aae\",\"type\":\"ColumnDataSource\"},\"glyph\":{\"id\":\"e73059bc-ae3d-4d70-83b6-8578445859bf\",\"type\":\"Line\"},\"hover_glyph\":null,\"muted_glyph\":null,\"nonselection_glyph\":{\"id\":\"bf4fa089-2c3a-400c-ba61-f9cce872c457\",\"type\":\"Line\"},\"selection_glyph\":null,\"view\":{\"id\":\"31bfd182-b736-4093-9bb9-17f0ed9a5659\",\"type\":\"CDSView\"}},\"id\":\"751c8381-28b0-4cc2-81f9-4ce4ffee92d0\",\"type\":\"GlyphRenderer\"},{\"attributes\":{},\"id\":\"a999afac-6e99-4e7c-8320-4dc3d505caad\",\"type\":\"PanTool\"},{\"attributes\":{},\"id\":\"10e1474f-dab1-4c14-b162-dc79e9dc386b\",\"type\":\"BasicTicker\"},{\"attributes\":{\"callback\":null,\"column_names\":[\"y\",\"x\"],\"data\":{\"x\":[1,2,3,4,5],\"y\":[6,7,2,4,5]}},\"id\":\"b4c9f03b-8555-41dc-891a-c813018b0aae\",\"type\":\"ColumnDataSource\"},{\"attributes\":{\"dimension\":1,\"plot\":{\"id\":\"79a96c72-4e82-4389-a685-49cc875506e8\",\"subtype\":\"Figure\",\"type\":\"Plot\"},\"ticker\":{\"id\":\"00120a48-b5f1-4085-bc2b-9b5439a21e67\",\"type\":\"BasicTicker\"}},\"id\":\"135d286d-272e-4e54-8ad0-71c1e7591f8f\",\"type\":\"Grid\"},{\"attributes\":{\"below\":[{\"id\":\"7f8a6119-95f3-4757-ae27-fe8d925bac03\",\"type\":\"LinearAxis\"}],\"left\":[{\"id\":\"36984c57-dad8-40e6-8733-942852c8dd88\",\"type\":\"LinearAxis\"}],\"renderers\":[{\"id\":\"7f8a6119-95f3-4757-ae27-fe8d925bac03\",\"type\":\"LinearAxis\"},{\"id\":\"1b6cef2f-ba24-4dcf-8eca-ad4669a335d5\",\"type\":\"Grid\"},{\"id\":\"36984c57-dad8-40e6-8733-942852c8dd88\",\"type\":\"LinearAxis\"},{\"id\":\"135d286d-272e-4e54-8ad0-71c1e7591f8f\",\"type\":\"Grid\"},{\"id\":\"dea18313-3018-4006-a39d-2ec0eaa5ae36\",\"type\":\"BoxAnnotation\"},{\"id\":\"6f819e26-9812-40e0-94aa-2f432a8e7e61\",\"type\":\"Legend\"},{\"id\":\"751c8381-28b0-4cc2-81f9-4ce4ffee92d0\",\"type\":\"GlyphRenderer\"}],\"title\":{\"id\":\"cee23617-b2a0-43ac-8976-e8cf8636c004\",\"type\":\"Title\"},\"toolbar\":{\"id\":\"e7359db7-5688-4741-9838-8958e5796ab3\",\"type\":\"Toolbar\"},\"x_range\":{\"id\":\"92fc678f-874a-4855-b564-a42db5f4f617\",\"type\":\"DataRange1d\"},\"x_scale\":{\"id\":\"415e4c2e-ef17-4308-8000-29c7ee6068db\",\"type\":\"LinearScale\"},\"y_range\":{\"id\":\"2cb23331-096c-4178-affa-ade10ca737fe\",\"type\":\"DataRange1d\"},\"y_scale\":{\"id\":\"8b5bbc8e-87d1-489b-bc45-269da7e31735\",\"type\":\"LinearScale\"}},\"id\":\"79a96c72-4e82-4389-a685-49cc875506e8\",\"subtype\":\"Figure\",\"type\":\"Plot\"},{\"attributes\":{},\"id\":\"10e53aba-71bf-4d0b-80de-95cdf526482f\",\"type\":\"SaveTool\"},{\"attributes\":{},\"id\":\"bc6bda61-5564-4f0e-89d7-c76732c8c226\",\"type\":\"HelpTool\"},{\"attributes\":{\"line_color\":{\"value\":\"#1f77b4\"},\"line_width\":{\"value\":2},\"x\":{\"field\":\"x\"},\"y\":{\"field\":\"y\"}},\"id\":\"e73059bc-ae3d-4d70-83b6-8578445859bf\",\"type\":\"Line\"},{\"attributes\":{},\"id\":\"4ab8883f-c6b0-402a-a6d0-3fa7b92f2124\",\"type\":\"WheelZoomTool\"},{\"attributes\":{},\"id\":\"b82fd479-1be7-497f-8157-7d46c56d3a53\",\"type\":\"BasicTickFormatter\"},{\"attributes\":{\"line_alpha\":{\"value\":0.1},\"line_color\":{\"value\":\"#1f77b4\"},\"line_width\":{\"value\":2},\"x\":{\"field\":\"x\"},\"y\":{\"field\":\"y\"}},\"id\":\"bf4fa089-2c3a-400c-ba61-f9cce872c457\",\"type\":\"Line\"},{\"attributes\":{\"plot\":null,\"text\":\"simple line example\"},\"id\":\"cee23617-b2a0-43ac-8976-e8cf8636c004\",\"type\":\"Title\"}],\"root_ids\":[\"79a96c72-4e82-4389-a685-49cc875506e8\"]},\"title\":\"Bokeh Application\",\"version\":\"0.12.10\"}};\n",
       "                  var render_items = [{\"docid\":\"cef8bd57-e06d-43d4-8289-f355f2ac1487\",\"elementid\":\"6eaf0062-8af0-4686-8d9c-d2dd9793498c\",\"modelid\":\"79a96c72-4e82-4389-a685-49cc875506e8\"}];\n",
       "              \n",
       "                  root.Bokeh.embed.embed_items(docs_json, render_items);\n",
       "                }\n",
       "              \n",
       "                if (root.Bokeh !== undefined) {\n",
       "                  embed_document(root);\n",
       "                } else {\n",
       "                  var attempts = 0;\n",
       "                  var timer = setInterval(function(root) {\n",
       "                    if (root.Bokeh !== undefined) {\n",
       "                      embed_document(root);\n",
       "                      clearInterval(timer);\n",
       "                    }\n",
       "                    attempts++;\n",
       "                    if (attempts > 100) {\n",
       "                      console.log(\"Bokeh: ERROR: Unable to embed document because BokehJS library is missing\")\n",
       "                      clearInterval(timer);\n",
       "                    }\n",
       "                  }, 10, root)\n",
       "                }\n",
       "              })(window);\n",
       "            });\n",
       "          };\n",
       "          if (document.readyState != \"loading\") fn();\n",
       "          else document.addEventListener(\"DOMContentLoaded\", fn);\n",
       "        })();\n",
       "        \n",
       "        </script>\n",
       "    </body>\n",
       "</html>"
      ],
      "text/plain": [
       "<IPython.core.display.HTML object>"
      ]
     },
     "metadata": {},
     "output_type": "display_data"
    }
   ],
   "source": [
    "from bokeh.plotting import figure, show, save\n",
    "from bokeh.io import output_file\n",
    "\n",
    "import codecs\n",
    "from IPython.core.display import display, HTML\n",
    "\n",
    "output_file('bokeh_img.html')\n",
    "\n",
    "# prepare some data\n",
    "x = [1, 2, 3, 4, 5]\n",
    "y = [6, 7, 2, 4, 5]\n",
    "\n",
    "# create a new plot with a title and axis labels\n",
    "p = figure(title=\"simple line example\", x_axis_label='x', y_axis_label='y')\n",
    "\n",
    "# add a line renderer with legend and line thickness\n",
    "p.line(x, y, legend=\"Temp.\", line_width=2)\n",
    "\n",
    "# show the results\n",
    "display(HTML(codecs.open(save(p), 'r').read()))"
   ]
  },
  {
   "cell_type": "code",
   "execution_count": null,
   "metadata": {},
   "outputs": [],
   "source": []
  }
 ],
 "metadata": {
  "kernelspec": {
   "display_name": "Python 3",
   "language": "python",
   "name": "python3"
  },
  "language_info": {
   "codemirror_mode": {
    "name": "ipython",
    "version": 3
   },
   "file_extension": ".py",
   "mimetype": "text/x-python",
   "name": "python",
   "nbconvert_exporter": "python",
   "pygments_lexer": "ipython3",
   "version": "3.5.4"
  }
 },
 "nbformat": 4,
 "nbformat_minor": 2
}
